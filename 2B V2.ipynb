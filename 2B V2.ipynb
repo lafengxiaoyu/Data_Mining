{
 "cells": [
  {
   "cell_type": "code",
   "execution_count": 2,
   "metadata": {},
   "outputs": [],
   "source": [
    "import pandas as pd\n",
    "import numpy as np\n",
    "import matplotlib.pyplot as plt\n",
    "import seaborn as sns\n",
    "from sklearn import svm\n",
    "\n",
    "train = pd.read_csv('train.csv', dtype={\"Age\": np.float64})\n",
    "test = pd.read_csv('test.csv', dtype={\"Age\": np.float64})"
   ]
  },
  {
   "cell_type": "code",
   "execution_count": 3,
   "metadata": {},
   "outputs": [],
   "source": [
    "from scipy.stats import mode\n",
    "import string\n",
    "\n",
    "def substrings_in_string(big_string, substrings):\n",
    "    for substring in substrings:\n",
    "        if big_string.find(substring) != -1:\n",
    "            return substring\n",
    "    return np.nan"
   ]
  },
  {
   "cell_type": "code",
   "execution_count": 4,
   "metadata": {},
   "outputs": [],
   "source": [
    "def phase1clean(df):\n",
    "    #setting silly values to nan\n",
    "    df.Fare = df.Fare.map(lambda x: np.nan if x==0 else x)\n",
    "    \n",
    "    #Special case for cabins as nan may be signal\n",
    "    df.Cabin = df.Cabin.fillna('Unknown') \n",
    "    \n",
    "    df.Embarked = df.Embarked.fillna('Unknown')\n",
    "\n",
    "    #creating a title column from name\n",
    "    title_list=['Mrs', 'Mr', 'Master', 'Miss', 'Major', 'Rev',\n",
    "                'Dr', 'Ms', 'Mlle','Col', 'Capt', 'Mme', 'Countess',\n",
    "                'Don', 'Jonkheer']\n",
    "\n",
    "    df['Title']=df['Name'].map(lambda x: substrings_in_string(x, title_list))\n",
    "    \n",
    "    #replacing all titles with mr, mrs, miss, master\n",
    "    def replace_titles(x):\n",
    "        title=x['Title']\n",
    "        if title in ['Don', 'Major', 'Capt', 'Jonkheer', 'Rev', 'Col']:\n",
    "            return 'Mr'\n",
    "        elif title in ['Countess', 'Mme']:\n",
    "            return 'Mrs'\n",
    "        elif title in ['Mlle', 'Ms']:\n",
    "            return 'Miss'\n",
    "        elif title =='Dr':\n",
    "            if x['Sex']=='Male':\n",
    "                return 'Mr'\n",
    "            else:\n",
    "                return 'Mrs'\n",
    "        else:\n",
    "            return title\n",
    "    df['Title']=df.apply(replace_titles, axis=1)\n",
    "\n",
    "    #Turning cabin number into Deck\n",
    "    cabin_list = ['A', 'B', 'C', 'D', 'E', 'F', 'T', 'G', 'Unknown']\n",
    "    df['Deck']=df['Cabin'].map(lambda x: substrings_in_string(x, cabin_list))\n",
    "        \n",
    "    #Creating new family_size column\n",
    "    df['Family_Size']=df['SibSp']+df['Parch']\n",
    "    \n",
    "    return df\n",
    "\n",
    "def phase2clean(train, test):\n",
    "    #data type dictionary\n",
    "    data_type_dict={'Pclass':'ordinal', 'Sex':'nominal', \n",
    "                    'Age':'numeric', \n",
    "                    'Fare':'numeric', 'Embarked':'nominal', 'Title':'nominal',\n",
    "                    'Deck':'nominal', 'Family_Size':'ordinal'}      \n",
    "    for df in [train, test]:\n",
    "        meanAge=np.mean(df.Age)\n",
    "        df.Age=df.Age.fillna(meanAge)\n",
    "    \n",
    "#    Fare per person\n",
    "    for df in [train, test]:\n",
    "        df['Fare_Per_Person']=df['Fare']/(df['Family_Size']+1)\n",
    "    \n",
    "    #Age times class\n",
    "    for df in [train, test]:\n",
    "        df['Age*Class']=df['Age']*df['Pclass']\n",
    "    \n",
    "    data_type_dict['Fare_Per_Person']='numeric'\n",
    "    data_type_dict['Age*Class']='numeric'\n",
    "    \n",
    "    return [train,test, data_type_dict]\n"
   ]
  },
  {
   "cell_type": "code",
   "execution_count": 37,
   "metadata": {},
   "outputs": [],
   "source": [
    "traindf = phase1clean(train)\n",
    "testdf = phase1clean(test)\n",
    "\n",
    "train_cleaned, test_cleaned, data_type_dict = phase2clean(traindf,testdf)\n",
    "train_cleaned.to_csv(\"train_cleaned.csv\", index=False)\n",
    "test_cleaned.to_csv(\"test_cleaned.csv\", index=False)"
   ]
  },
  {
   "cell_type": "code",
   "execution_count": 62,
   "metadata": {},
   "outputs": [],
   "source": [
    "pclass = np.array(train_cleaned['Pclass'])\n",
    "familysize = np.array(train_cleaned['Family_Size'])\n",
    "age = np.array(train_cleaned['Age'])\n",
    "fareper = np.nan_to_num(np.array(train_cleaned['Fare_Per_Person']))\n",
    "ageclass = np.array(train_cleaned['Age*Class'])\n",
    "title = np.array(train_cleaned['Title'].apply(lambda x : 0 if x=='Mr' else(1 if x=='Mrs' else(2 if x=='Miss' else 3))))\n",
    "sex = np.array(train_cleaned['Sex'].apply(lambda x : 1 if x=='male' else 0))\n",
    "deck = np.array(train_cleaned['Deck'].apply(lambda x : 0 if x=='Unknown' else 1))\n",
    "embarked = np.array(train_cleaned['Embarked'].apply(lambda x:1 if x=='S' else(2 if x=='C' else(3 if x =='Q' else 0))))"
   ]
  },
  {
   "cell_type": "code",
   "execution_count": 63,
   "metadata": {},
   "outputs": [],
   "source": [
    "x = np.vstack((sex,pclass,deck,familysize,title)).T\n",
    "y = np.array(train['Survived'])"
   ]
  },
  {
   "cell_type": "code",
   "execution_count": 8,
   "metadata": {},
   "outputs": [
    {
     "name": "stderr",
     "output_type": "stream",
     "text": [
      "E:\\python\\lib\\site-packages\\sklearn\\svm\\base.py:196: FutureWarning: The default value of gamma will change from 'auto' to 'scale' in version 0.22 to account better for unscaled features. Set gamma explicitly to 'auto' or 'scale' to avoid this warning.\n",
      "  \"avoid this warning.\", FutureWarning)\n"
     ]
    },
    {
     "data": {
      "text/plain": [
       "SVR(C=1.0, cache_size=200, coef0=0.0, degree=3, epsilon=0.1,\n",
       "  gamma='auto_deprecated', kernel='rbf', max_iter=-1, shrinking=True,\n",
       "  tol=0.001, verbose=False)"
      ]
     },
     "execution_count": 8,
     "metadata": {},
     "output_type": "execute_result"
    }
   ],
   "source": [
    "clf = svm.SVR(kernel='rbf')\n",
    "clf.fit(x, y)"
   ]
  },
  {
   "cell_type": "code",
   "execution_count": 40,
   "metadata": {},
   "outputs": [],
   "source": [
    "test_pclass = np.array(test_cleaned['Pclass'])\n",
    "test_familysize = np.array(test_cleaned['Family_Size'])\n",
    "test_age = np.array(test_cleaned['Age'])\n",
    "test_fareper = np.nan_to_num(np.array(test_cleaned['Fare_Per_Person']))\n",
    "test_ageclass = np.array(test_cleaned['Age*Class'])\n",
    "test_title = np.array(test_cleaned['Title'].apply(lambda x : 0 if x=='Mr' else(1 if x=='Mrs' else(2 if x=='Miss' else 3))))\n",
    "test_sex = np.array(test_cleaned['Sex'].apply(lambda x : 1 if x=='male' else 0))\n",
    "test_deck = np.array(test_cleaned['Deck'].apply(lambda x : 0 if x=='Unknown' else 1))\n",
    "test_embarked = np.array(test_cleaned['Embarked'].apply(lambda x:1 if x=='S' else(2 if x=='C' else(3 if x =='Q' else 0))))"
   ]
  },
  {
   "cell_type": "code",
   "execution_count": 60,
   "metadata": {},
   "outputs": [],
   "source": [
    "\n",
    "test_x = np.vstack((test_sex,test_pclass,test_deck,test_familysize,test_title)).T\n",
    "y = clf.predict(test_x)\n",
    "test_survived = []\n",
    "for item in y:\n",
    "    if item < 0.5:\n",
    "        test_survived.append(0)\n",
    "    else:\n",
    "        test_survived.append(1)"
   ]
  },
  {
   "cell_type": "code",
   "execution_count": 42,
   "metadata": {},
   "outputs": [],
   "source": [
    "#SVM Submission\n",
    "passengerid = np.array(test['PassengerId'])\n",
    "submission = pd.DataFrame({\"PassengerId\": passengerid, \"Survived\": test_survived})\n",
    "submission.to_csv(\"submission_svm.csv\", index=False)"
   ]
  },
  {
   "cell_type": "code",
   "execution_count": 83,
   "metadata": {},
   "outputs": [
    {
     "name": "stdout",
     "output_type": "stream",
     "text": [
      "(891, 5)\n",
      "(418, 5)\n"
     ]
    }
   ],
   "source": [
    "from sklearn.ensemble import RandomForestClassifier\n",
    "from sklearn.linear_model import LogisticRegression\n",
    "from sklearn.linear_model import LinearRegression\n",
    "from sklearn.linear_model import LogisticRegression\n",
    "\n",
    "x = np.vstack((sex,pclass,deck,familysize,title)).T\n",
    "y = np.array(train['Survived'])\n",
    "test_x = np.vstack((test_sex,test_pclass,test_deck,test_familysize,test_title)).T\n",
    "linearReg = LinearRegression().fit(x, y)\n",
    "\n",
    "y = linearReg.predict(test_x)\n",
    "test_survived_linear_reg = []\n",
    "for item in y:\n",
    "    if item < 0.5:\n",
    "        test_survived_linear_reg.append(0)\n",
    "    else:\n",
    "        test_survived_linear_reg.append(1)"
   ]
  },
  {
   "cell_type": "code",
   "execution_count": 84,
   "metadata": {},
   "outputs": [],
   "source": [
    "# Linear Reg submission\n",
    "passengerid = np.array(test['PassengerId'])\n",
    "submission = pd.DataFrame({\"PassengerId\": passengerid, \"Survived\": test_survived_linear_reg})\n",
    "submission.to_csv(\"submission_LinearReg.csv\", index=False)"
   ]
  },
  {
   "cell_type": "code",
   "execution_count": 85,
   "metadata": {},
   "outputs": [],
   "source": [
    "from sklearn.neural_network import MLPRegressor\n",
    "\n",
    "x = np.vstack((sex,pclass,deck,familysize,title)).T\n",
    "y = np.array(train['Survived'])\n",
    "NN = MLPRegressor(solver = 'lbfgs').fit(x,y)\n",
    "\n",
    "y = NN.predict(test_x)\n",
    "test_survived_NN = []\n",
    "for item in y:\n",
    "    if item < 0.5:\n",
    "        test_survived_NN.append(0)\n",
    "    else:\n",
    "        test_survived_NN.append(1)"
   ]
  },
  {
   "cell_type": "code",
   "execution_count": 86,
   "metadata": {},
   "outputs": [],
   "source": [
    "# NN submission\n",
    "passengerid = np.array(test['PassengerId'])\n",
    "submission = pd.DataFrame({\"PassengerId\": passengerid, \"Survived\": test_survived_NN})\n",
    "submission.to_csv(\"submission_NN.csv\", index=False)"
   ]
  },
  {
   "cell_type": "code",
   "execution_count": null,
   "metadata": {},
   "outputs": [],
   "source": []
  }
 ],
 "metadata": {
  "kernelspec": {
   "display_name": "Python 3",
   "language": "python",
   "name": "python3"
  },
  "language_info": {
   "codemirror_mode": {
    "name": "ipython",
    "version": 3
   },
   "file_extension": ".py",
   "mimetype": "text/x-python",
   "name": "python",
   "nbconvert_exporter": "python",
   "pygments_lexer": "ipython3",
   "version": "3.7.0"
  }
 },
 "nbformat": 4,
 "nbformat_minor": 2
}
