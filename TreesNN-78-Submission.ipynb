{
 "cells": [
  {
   "cell_type": "markdown",
   "metadata": {},
   "source": [
    "# AML kaggle competition"
   ]
  },
  {
   "cell_type": "markdown",
   "metadata": {},
   "source": [
    "### Importing packages"
   ]
  },
  {
   "cell_type": "code",
   "execution_count": 30,
   "metadata": {},
   "outputs": [],
   "source": [
    "#import packages\n",
    "import datetime\n",
    "import pandas as pd\n",
    "import numpy as np\n",
    "from sklearn.preprocessing import OneHotEncoder\n",
    "from sklearn.model_selection import train_test_split\n",
    "from sklearn.neural_network import MLPClassifier\n",
    "from sklearn.linear_model import LogisticRegression\n",
    "from sklearn.ensemble import RandomForestClassifier\n",
    "from sklearn.ensemble import GradientBoostingClassifier\n",
    "from sklearn.neighbors import KNeighborsClassifier\n",
    "from sklearn.naive_bayes import GaussianNB\n",
    "import sklearn.metrics as metrics\n",
    "from sklearn.neighbors import RadiusNeighborsClassifier\n",
    "import matplotlib.pyplot as plt\n",
    "from sklearn.metrics import accuracy_score, confusion_matrix, r2_score\n",
    "\n",
    "\n",
    "import seaborn as sns\n",
    "\n",
    "from pandas.tseries.holiday import USFederalHolidayCalendar as calendar\n",
    "\n",
    "\n",
    "from keras.models import Sequential\n",
    "from keras.layers import Dense\n",
    "np.random.seed(7)\n",
    "from keras.models import Sequential\n",
    "from keras.layers import Dense\n",
    "\n"
   ]
  },
  {
   "cell_type": "markdown",
   "metadata": {},
   "source": [
    "# Collect Datafiles"
   ]
  },
  {
   "cell_type": "code",
   "execution_count": 31,
   "metadata": {},
   "outputs": [],
   "source": [
    "#import data files\n",
    "df_train = pd.read_csv('train.csv')\n",
    "df_test = pd.read_csv('test.csv')\n",
    "Merged= df_train.append(df_test)\n",
    "\n",
    "df_airports = pd.read_csv('airports.csv')\n",
    "df_airports = df_airports.drop(columns='name')\n",
    "\n",
    "df_weather = pd.read_csv('weather.csv')\n",
    "\n",
    "# df_train= df_train[df_train['carrier']=='AA']\n",
    "df=df_train\n",
    "\n",
    "airDict=df_airports[['faa','tz','dst']].set_index('faa').to_dict()\n",
    "\n",
    "DLat = df_airports[['faa','lat']].groupby(['faa']).mean().to_dict()['lat']\n",
    "DLon = df_airports[['faa','lon']].groupby(['faa']).mean().to_dict()['lon']\n",
    "thatday=df_train[['month','day','is_delayed']].groupby(['month','day']).mean().to_dict()['is_delayed']"
   ]
  },
  {
   "cell_type": "code",
   "execution_count": 32,
   "metadata": {},
   "outputs": [],
   "source": [
    "def weekday(date):\n",
    "    return datetime.datetime(date[0], date[1], date[2]).weekday()"
   ]
  },
  {
   "cell_type": "code",
   "execution_count": 33,
   "metadata": {},
   "outputs": [],
   "source": [
    "\n",
    "\n",
    "df_weather['wind_speed'] = df_weather[['wind_speed']].fillna(df_weather.wind_speed.mean())\n",
    "df_weather['visib'] = df_weather[['visib']].fillna(df_weather.visib.mean())\n",
    "\n",
    "delaycarrier = df_train[['is_delayed','carrier']].groupby('carrier').mean().to_dict()['is_delayed']\n",
    "delayODC = df_train[['is_delayed','origin','dest','carrier']].groupby(['origin','dest','carrier']).mean().to_dict()['is_delayed']\n",
    "\n",
    "\n",
    "originvisibility = df_weather[['origin','month','day','hour','visib']].groupby(['origin','month','day','hour']).mean().to_dict()['visib']\n",
    "originwind = df_weather[['origin','month','day','hour','wind_speed']].groupby(['origin','month','day','hour']).mean().to_dict()['wind_speed']\n",
    "originpressure = df_weather[['origin','month','day','hour','pressure']].groupby(['origin','month','day','hour']).mean().to_dict()['pressure']\n",
    "originhumidity = df_weather[['origin','month','day','hour','humid']].groupby(['origin','month','day','hour']).mean().to_dict()['humid']\n",
    "originprecip = df_weather[['origin','month','day','hour','precip']].groupby(['origin','month','day','hour']).mean().to_dict()['precip']\n",
    "origindir = df_weather[['origin','month','day','hour','wind_dir']].groupby(['origin','month','day','hour']).mean().to_dict()['wind_dir']\n",
    "origintemp = df_weather[['origin','month','day','hour','temp']].groupby(['origin','month','day','hour']).mean().to_dict()['temp']\n",
    "origindew = df_weather[['origin','month','day','hour','dewp']].groupby(['origin','month','day','hour']).mean().to_dict()['dewp']\n",
    "originwindgust = df_weather[['origin','month','day','hour','wind_gust']].groupby(['origin','month','day','hour']).mean().to_dict()['wind_gust']\n",
    "\n",
    "\n",
    "\n",
    "tempdew = df_weather['dewp'].mean()\n",
    "tempmean = df_weather['temp'].mean()\n",
    "windmean = df_weather['wind_speed'].mean()\n",
    "visibmean = df_weather['visib'].mean()\n",
    "pressuremean = df_weather['pressure'].mean()\n",
    "humiditymean = df_weather['humid'].mean()\n",
    "precipmean = df_weather['precip'].mean()\n",
    "dirmean= df_weather['wind_dir'].mean()"
   ]
  },
  {
   "cell_type": "code",
   "execution_count": 34,
   "metadata": {},
   "outputs": [],
   "source": [
    "def prepare(df):\n",
    "    \n",
    "    \n",
    "#     df['hour']=[int(row[1]/100) for row in df[['sched_dep_time']].itertuples()]\n",
    "#     df['minute']=[row[1]-int(row[1]/100)*100 for row in df[['sched_dep_time']].itertuples()]\n",
    "#     df['DateTime'] = [datetime.datetime(row[1], row[2], row[3],row[4],row[5]) for row in df[['year','month','day','hour','minute']].itertuples()]\n",
    "    \n",
    "    df['sched_dep_hour'] = [int(i) for i in round(df['sched_dep_time']/100)]\n",
    "    df['sched_arr_hour'] = [int(i) for i in round(df['sched_arr_time']/100)]\n",
    "    \n",
    "    \n",
    "\n",
    "\n",
    "    df['sin_day'] = np.sin(2*np.pi*df.day/31)\n",
    "    df['cos_day'] = np.cos(2*np.pi*df.day/31)\n",
    "\n",
    "    df['sin_month'] = np.sin(2*np.pi*df.month/12)\n",
    "    df['cos_month'] = np.cos(2*np.pi*df.month/12)\n",
    "\n",
    "    df['sched_dep_hour_sin'] = np.sin(2*np.pi*df.sched_dep_hour/23)\n",
    "    df['sched_dep_hour_cos'] = np.cos(2*np.pi*df.sched_dep_hour/23)\n",
    "\n",
    "    df['sched_arr_hour_sin'] = np.sin(2*np.pi*df.sched_arr_hour/23)\n",
    "    df['sched_arr_hour_cos'] = np.cos(2*np.pi*df.sched_arr_hour/23)\n",
    "\n",
    "    distlist = df['distance']\n",
    "    df['distance'] = distlist/max(distlist)\n",
    "    \n",
    "    df['delayODC'] = [delayODC.get(tuple(row)[1:],0.5) for row in df[['origin','dest','carrier']].itertuples()]\n",
    "    \n",
    "    df['thatday'] = [thatday.get(tuple(row)[1:]) for row in df[['month','day']].itertuples()]\n",
    "\n",
    "    df['weekday'] = [weekday(tuple(row)[1:]) for row in df[['year','month','day']].itertuples()]\n",
    "    df['weekdaysin'] = np.sin(2*np.pi*df.weekday/6)\n",
    "    df['weekdaycos'] = np.cos(2*np.pi*df.weekday/6)\n",
    "    \n",
    "    df['originwind_gust'] = [originhumidity.get(tuple(row)[1:]) for row in df[['origin','month','day','sched_dep_hour']].itertuples()]\n",
    "    df['originwind_gust'] = df['originwind_gust'].fillna(0)\n",
    "    df['originwind_gust'] =  df['originwind_gust']/ df['originwind_gust'].max()\n",
    "    \n",
    "    df['Dlat'] = [DLat.get(d) for d in df['dest']]\n",
    "    df['Dlon'] = [DLon.get(d) for d in df['dest']]\n",
    "    \n",
    "    df['Dlat'] = df['Dlat'].fillna(df['Dlat'].mean())\n",
    "    df['Dlon'] = df['Dlon'].fillna(df['Dlon'].mean())\n",
    "    \n",
    "    df['Dlat'] = df['Dlat']/max(df['Dlat'])\n",
    "    df['Dlon'] = df['Dlon']/max(df['Dlon'])\n",
    "\n",
    "    \n",
    "    df['originvis'] = [originvisibility.get(tuple(row)[1:],visibmean) for row in df[['origin','month','day','sched_dep_hour']].itertuples()]\n",
    "    df['originvis'] =  df['originvis']/ df['originvis'].max()\n",
    "    \n",
    "    df['originwind'] = [originwind.get(tuple(row)[1:],windmean) for row in df[['origin','month','day','sched_dep_hour']].itertuples()]\n",
    "    df['originwind'] =  df['originwind']/ df['originwind'].max()\n",
    "    \n",
    "    df['originhumidity'] = [originhumidity.get(tuple(row)[1:],humiditymean) for row in df[['origin','month','day','sched_dep_hour']].itertuples()]\n",
    "    df['originhumidity'] = df['originhumidity'].fillna(humiditymean)\n",
    "    df['originhumidity'] =  df['originhumidity']/ df['originhumidity'].max()\n",
    "    \n",
    "    df['originpressure'] = [originpressure.get(tuple(row)[1:],pressuremean) for row in df[['origin','month','day','sched_dep_hour']].itertuples()]\n",
    "    df['originpressure'] = df['originpressure'].fillna(pressuremean)\n",
    "    df['originpressure'] =  df['originpressure']/ df['originpressure'].max()\n",
    "    \n",
    "    df['originprecip'] = [originprecip.get(tuple(row)[1:],precipmean) for row in df[['origin','month','day','sched_dep_hour']].itertuples()]\n",
    "    df['originprecip'] =  df['originprecip']/ df['originprecip'].max()\n",
    "    \n",
    "    df['origindir'] = [origindir.get(tuple(row)[1:],dirmean) for row in df[['origin','month','day','sched_dep_hour']].itertuples()]\n",
    "    df['origindir'] = df['origindir'].fillna(dirmean)\n",
    "    df['origindir_sin'] = np.sin(2*np.pi*df.origindir/360)\n",
    "    df['origindir_cos'] = np.cos(2*np.pi*df.origindir/360)\n",
    "    \n",
    "    df['origintemp'] = [origintemp.get(tuple(row)[1:],tempmean) for row in df[['origin','month','day','sched_dep_hour']].itertuples()]\n",
    "    df['origintemp'] = df['origintemp'].fillna(tempmean)\n",
    "    df['origintemp'] =  df['origintemp']/ df['origintemp'].max()\n",
    "    \n",
    "    df['origindew'] = [origindew.get(tuple(row)[1:],tempmean) for row in df[['origin','month','day','sched_dep_hour']].itertuples()]\n",
    "    df['origindew'] = df['origindew'].fillna(tempmean)\n",
    "    df['origindew'] =  df['origindew']/ df['origindew'].max()\n",
    "    \n",
    "#     df = df.drop(columns=['dest','date','weekday','carrier','month','day','year','id','sched_dep_time','sched_arr_time','sched_dep_hour','sched_arr_hour','originwind'])\n",
    "    df = df.drop(columns=['origindir','month','day','year','sched_dep_time','sched_arr_time','sched_arr_hour'])\n",
    "    df = pd.get_dummies(df)\n",
    "\n",
    "\n",
    "    return df"
   ]
  },
  {
   "cell_type": "code",
   "execution_count": 35,
   "metadata": {
    "scrolled": true
   },
   "outputs": [],
   "source": [
    "merged = prepare(Merged)\n",
    "\n",
    "train=merged.head(len(df_train))\n",
    "smalltrain = train.head(int(len(train)*0.8))\n",
    "validation = train.tail(int(len(train)*0.2))\n",
    "\n",
    "test=merged.tail(len(df_test))"
   ]
  },
  {
   "cell_type": "code",
   "execution_count": 36,
   "metadata": {},
   "outputs": [],
   "source": [
    "y_validation, x_validation = validation['is_delayed'], validation.drop(columns='is_delayed')\n",
    "y_smalltrain, x_smalltrain = smalltrain['is_delayed'], smalltrain.drop(columns='is_delayed')\n",
    "y_train, x_train = train['is_delayed'], train.drop(columns='is_delayed')\n",
    "x_test = test"
   ]
  },
  {
   "cell_type": "markdown",
   "metadata": {},
   "source": [
    "# TreeNN Model"
   ]
  },
  {
   "cell_type": "markdown",
   "metadata": {},
   "source": [
    "## Train Trees on Training Data"
   ]
  },
  {
   "cell_type": "code",
   "execution_count": 37,
   "metadata": {},
   "outputs": [
    {
     "name": "stdout",
     "output_type": "stream",
     "text": [
      "done\n",
      "done\n",
      "done\n",
      "done\n"
     ]
    }
   ],
   "source": [
    "RF_All = RandomForestClassifier(n_estimators=500,max_features=15,random_state=1)\n",
    "RF_Date = RandomForestClassifier(n_estimators=500,random_state=1)\n",
    "RF_Weather = RandomForestClassifier(n_estimators=500,random_state=1)\n",
    "RF_ODC = RandomForestClassifier(n_estimators=500,max_features=50,random_state=1)\n",
    "\n",
    "\n",
    "\n",
    "\n",
    "weather=['origintemp','origindew','distance']\n",
    "dateandtime=['sin_day','cos_day','sin_month','cos_month','sched_dep_hour_sin','sched_dep_hour_cos','weekday','thatday']\n",
    "O=[col for col in x_smalltrain if col.startswith('origin_')]\n",
    "D=[col for col in x_smalltrain if col.startswith('dest_')]\n",
    "C=[col for col in x_smalltrain if col.startswith('carrier_')]\n",
    "LONLAT=['Dlon','Dlat']\n",
    "\n",
    "all_smalltrain=x_smalltrain[O+D+C+weather+dateandtime]\n",
    "all_val=x_validation[O+D+C+weather+dateandtime]\n",
    "all_test=x_test[O+D+C+weather+dateandtime]\n",
    "\n",
    "date_smalltrain=x_smalltrain[dateandtime]\n",
    "date_val=x_validation[dateandtime]\n",
    "date_test=x_test[dateandtime]\n",
    "\n",
    "weather_smalltrain=x_smalltrain[weather]\n",
    "weather_val=x_validation[weather]\n",
    "weather_test=x_test[weather]\n",
    "\n",
    "ODC_smalltrain=x_smalltrain[O+D+C+['distance']]\n",
    "ODC_val=x_validation[O+D+C+['distance']]\n",
    "ODC_test=x_test[O+D+C+['distance']]\n",
    "\n",
    "\n",
    "RF_All.fit(all_smalltrain, y_smalltrain)\n",
    "print('done')\n",
    "RF_Date.fit(date_smalltrain, y_smalltrain)\n",
    "print('done')\n",
    "RF_Weather.fit(weather_smalltrain, y_smalltrain)\n",
    "print('done')\n",
    "RF_ODC.fit(ODC_smalltrain, y_smalltrain)\n",
    "print('done')"
   ]
  },
  {
   "cell_type": "markdown",
   "metadata": {},
   "source": [
    "## Trees predict the training data and NN is trained to combine predictions"
   ]
  },
  {
   "cell_type": "code",
   "execution_count": 38,
   "metadata": {},
   "outputs": [],
   "source": [
    "treeResults=pd.DataFrame()\n",
    "i=1\n",
    "for RF in [[RF_ODC,ODC_val],[RF_Weather,weather_val],[RF_Date,date_val],[RF_All,all_val]]:\n",
    "    for tree in RF[0].estimators_:\n",
    "        treeResults[str(i)]=tree.predict(RF[1])\n",
    "        i+=1\n",
    "    #     print(i,  metrics.roc_auc_score(y_validation,treeResults[str(i)]))\n",
    "\n",
    "\n",
    "    "
   ]
  },
  {
   "cell_type": "code",
   "execution_count": 39,
   "metadata": {},
   "outputs": [
    {
     "name": "stdout",
     "output_type": "stream",
     "text": [
      "Epoch 1/3\n",
      "33714/33714 [==============================] - 5s 152us/step - loss: 0.5835 - acc: 0.6975\n",
      "Epoch 2/3\n",
      "33714/33714 [==============================] - 4s 131us/step - loss: 0.5460 - acc: 0.7257\n",
      "Epoch 3/3\n",
      "33714/33714 [==============================] - 5s 150us/step - loss: 0.5397 - acc: 0.7288\n"
     ]
    },
    {
     "data": {
      "text/plain": [
       "<keras.callbacks.History at 0x1a3d343f60>"
      ]
     },
     "execution_count": 39,
     "metadata": {},
     "output_type": "execute_result"
    }
   ],
   "source": [
    "model = Sequential()\n",
    "model.add(Dense(10, input_dim=2000, activation='relu'))\n",
    "model.add(Dense(100, activation='relu'))\n",
    "model.add(Dense(1, activation='sigmoid'))\n",
    "\n",
    "model.compile(loss='binary_crossentropy', optimizer='adam', metrics=['accuracy'])\n",
    "model.fit(treeResults, y_validation, epochs=3, batch_size=100)\n"
   ]
  },
  {
   "cell_type": "markdown",
   "metadata": {},
   "source": [
    "## Trees predict the validation data and NN is used to combine predictions"
   ]
  },
  {
   "cell_type": "code",
   "execution_count": 40,
   "metadata": {},
   "outputs": [],
   "source": [
    "treeResults_test=pd.DataFrame()\n",
    "i=1\n",
    "for RF in [[RF_ODC,ODC_test],[RF_Weather,weather_test],[RF_Date,date_test],[RF_All,all_test]]:\n",
    "    for tree in RF[0].estimators_:\n",
    "        treeResults_test[str(i)]=tree.predict(RF[1])\n",
    "        i+=1\n",
    "    #     print(i,  metrics.roc_auc_score(y_validation,treeResults[str(i)]))\n",
    "\n",
    "\n",
    "\n",
    "\n",
    "\n",
    "\n",
    "predictions = model.predict(treeResults_test)\n",
    "predictions=[i[0] for i in predictions]\n"
   ]
  },
  {
   "cell_type": "code",
   "execution_count": 42,
   "metadata": {},
   "outputs": [],
   "source": [
    "submission = pd.DataFrame()\n",
    "submission[\"id\"] = test[\"id\"]\n",
    "submission[\"is_delayed\"] = predictions\n",
    "submission.to_csv(\"submission_maybe78.csv\", index=False)"
   ]
  },
  {
   "cell_type": "code",
   "execution_count": null,
   "metadata": {},
   "outputs": [],
   "source": [
    "0.78 AUC with 500*4 trees\n",
    "weather=['origintemp','origindew','distance']\n",
    "dateandtime=['sin_day','cos_day','sin_month','cos_month','sched_dep_hour_sin','sched_dep_hour_cos','weekday','thatday']"
   ]
  },
  {
   "cell_type": "code",
   "execution_count": null,
   "metadata": {},
   "outputs": [],
   "source": []
  }
 ],
 "metadata": {
  "kernelspec": {
   "display_name": "Python 3",
   "language": "python",
   "name": "python3"
  },
  "language_info": {
   "codemirror_mode": {
    "name": "ipython",
    "version": 3
   },
   "file_extension": ".py",
   "mimetype": "text/x-python",
   "name": "python",
   "nbconvert_exporter": "python",
   "pygments_lexer": "ipython3",
   "version": "3.7.0"
  }
 },
 "nbformat": 4,
 "nbformat_minor": 2
}
