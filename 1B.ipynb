{
 "cells": [
  {
   "cell_type": "code",
   "execution_count": 2,
   "metadata": {},
   "outputs": [],
   "source": [
    "import pandas as pd\n",
    "import numpy as np\n",
    "from sklearn.model_selection import train_test_split\n",
    "from sklearn.model_selection import cross_val_score\n",
    "from sklearn.ensemble import RandomForestClassifier\n",
    "from sklearn.linear_model import LogisticRegression\n",
    "from sklearn.linear_model import LinearRegression\n",
    "\n",
    "data = pd.read_csv('heart.csv', sep=',')\n",
    "\n",
    "X = data.drop(['target'], axis = 1)\n",
    "y = data['target']\n",
    "\n",
    "#X_train, X_test, y_train, y_test = train_test_split(X, y, random_state=0)"
   ]
  },
  {
   "cell_type": "code",
   "execution_count": 11,
   "metadata": {},
   "outputs": [
    {
     "name": "stdout",
     "output_type": "stream",
     "text": [
      "[0.81818182 0.88157895 0.81333333 0.77333333]\n",
      "Accuracy: 0.82 (+/- 0.04)\n"
     ]
    }
   ],
   "source": [
    "logreg = LogisticRegression(solver = 'liblinear')\n",
    "#logreg.fit(X_train, y_train)\n",
    "logregScore = cross_val_score(logreg, X, y, cv = 4)\n",
    "print(logregScore)\n",
    "print(\"Accuracy: %0.2f (+/- %0.2f)\" % (logregScore.mean(), logregScore.std()))"
   ]
  },
  {
   "cell_type": "code",
   "execution_count": 13,
   "metadata": {},
   "outputs": [
    {
     "name": "stdout",
     "output_type": "stream",
     "text": [
      "[0.85148515 0.8019802  0.77227723]\n",
      "Accuracy: 0.81 (+/- 0.07)\n"
     ]
    }
   ],
   "source": [
    "RF = RandomForestClassifier(n_estimators=500,max_features=13,random_state=1)\n",
    "RFScore = cross_val_score(RF, X, y, cv = 3)\n",
    "print(RFScore)\n",
    "print(\"Accuracy: %0.2f (+/- %0.2f)\" % (RFScore.mean(), RFScore.std()*2))"
   ]
  },
  {
   "cell_type": "code",
   "execution_count": null,
   "metadata": {},
   "outputs": [],
   "source": []
  }
 ],
 "metadata": {
  "kernelspec": {
   "display_name": "Python 3",
   "language": "python",
   "name": "python3"
  },
  "language_info": {
   "codemirror_mode": {
    "name": "ipython",
    "version": 3
   },
   "file_extension": ".py",
   "mimetype": "text/x-python",
   "name": "python",
   "nbconvert_exporter": "python",
   "pygments_lexer": "ipython3",
   "version": "3.7.0"
  }
 },
 "nbformat": 4,
 "nbformat_minor": 2
}
