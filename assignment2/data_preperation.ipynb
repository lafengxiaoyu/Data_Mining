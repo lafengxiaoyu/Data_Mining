{
 "cells": [
  {
   "cell_type": "code",
   "execution_count": 2,
   "metadata": {
    "collapsed": true
   },
   "outputs": [],
   "source": [
    "import matplotlib.pyplot as plt\n",
    "import pandas as pd\n",
    "from pandas.plotting import scatter_matrix\n",
    "import seaborn as sns\n",
    "import numpy as np"
   ]
  },
  {
   "cell_type": "code",
   "execution_count": 2,
   "metadata": {
    "collapsed": true
   },
   "outputs": [],
   "source": [
    "dataset_train = pd.read_csv('./training_set_VU_DM.csv')\n",
    "\n",
    "cols_to_drop = ['date_time', 'visitor_hist_starrating', 'visitor_hist_adr_usd', 'srch_query_affinity_score', 'comp1_rate', 'comp1_inv', 'comp1_rate_percent_diff', 'comp2_rate_percent_diff', 'comp3_rate_percent_diff', 'comp4_rate_percent_diff', 'comp5_rate_percent_diff', 'comp6_rate_percent_diff', 'comp7_rate_percent_diff', 'comp8_rate_percent_diff', 'comp2_rate', 'comp3_rate', 'comp4_rate', 'comp5_rate', 'comp6_rate', 'comp7_rate', 'comp8_rate', 'comp2_inv', 'comp3_inv', 'comp4_inv', 'comp5_inv', 'comp6_inv', 'comp7_inv', 'comp8_inv', 'gross_bookings_usd']\n",
    "dataset_train.drop(cols_to_drop, axis=1, inplace=True)"
   ]
  },
  {
   "cell_type": "code",
   "execution_count": 3,
   "metadata": {},
   "outputs": [
    {
     "name": "stdout",
     "output_type": "stream",
     "text": [
      "<class 'pandas.core.frame.DataFrame'>\n",
      "Int64Index: 443758 entries, 2517578 to 131282\n",
      "Data columns (total 25 columns):\n",
      "srch_id                        443758 non-null int64\n",
      "site_id                        443758 non-null int64\n",
      "visitor_location_country_id    443758 non-null int64\n",
      "prop_country_id                443758 non-null int64\n",
      "prop_id                        443758 non-null int64\n",
      "prop_starrating                443758 non-null int64\n",
      "prop_review_score              443157 non-null float64\n",
      "prop_brand_bool                443758 non-null int64\n",
      "prop_location_score1           443758 non-null float64\n",
      "prop_location_score2           367425 non-null float64\n",
      "prop_log_historical_price      443758 non-null float64\n",
      "position                       443758 non-null int64\n",
      "price_usd                      443758 non-null float64\n",
      "promotion_flag                 443758 non-null int64\n",
      "srch_destination_id            443758 non-null int64\n",
      "srch_length_of_stay            443758 non-null int64\n",
      "srch_booking_window            443758 non-null int64\n",
      "srch_adults_count              443758 non-null int64\n",
      "srch_children_count            443758 non-null int64\n",
      "srch_room_count                443758 non-null int64\n",
      "srch_saturday_night_bool       443758 non-null int64\n",
      "orig_destination_distance      297305 non-null float64\n",
      "random_bool                    443758 non-null int64\n",
      "click_bool                     443758 non-null int64\n",
      "booking_bool                   443758 non-null int64\n",
      "dtypes: float64(6), int64(19)\n",
      "memory usage: 88.0 MB\n"
     ]
    }
   ],
   "source": [
    "click_indices = dataset_train[dataset_train.click_bool == 1].index\n",
    "random_indices = np.random.choice(click_indices, len(dataset_train.loc[dataset_train.click_bool == 1]), replace=False)\n",
    "click_sample = dataset_train.loc[random_indices]\n",
    "\n",
    "not_click = dataset_train[dataset_train.click_bool == 0].index\n",
    "random_indices = np.random.choice(not_click, sum(dataset_train['click_bool']), replace=False)\n",
    "not_click_sample = dataset_train.loc[random_indices]\n",
    "\n",
    "dataset_train_new = pd.concat([not_click_sample, click_sample], axis=0)\n",
    "dataset_train_new.info()"
   ]
  },
  {
   "cell_type": "code",
   "execution_count": 4,
   "metadata": {},
   "outputs": [
    {
     "name": "stderr",
     "output_type": "stream",
     "text": [
      "/Applications/anaconda/anaconda/lib/python3.6/site-packages/ipykernel_launcher.py:9: SettingWithCopyWarning: \n",
      "A value is trying to be set on a copy of a slice from a DataFrame\n",
      "\n",
      "See the caveats in the documentation: http://pandas.pydata.org/pandas-docs/stable/indexing.html#indexing-view-versus-copy\n",
      "  if __name__ == '__main__':\n"
     ]
    }
   ],
   "source": [
    "import random\n",
    "def randomiseMissingData(df2):\n",
    "    \"randomise missing data for DataFrame (within a column)\"\n",
    "    df = df2.copy()\n",
    "    for col in df.columns:\n",
    "        data = df['prop_review_score']\n",
    "        mask = data.isnull()\n",
    "        samples = random.choices( data[~mask].values , k = mask.sum() )\n",
    "        data[mask] = samples\n",
    "    return df\n",
    "\n",
    "dataset_train_new = randomiseMissingData(dataset_train_new)\n",
    "\n",
    "dataset_train_new['prop_location_score2'].fillna((dataset_train_new['prop_location_score2'].mean()), inplace=True)\n",
    "dataset_train_new['orig_destination_distance'].fillna((dataset_train_new['orig_destination_distance'].median()), inplace=True)"
   ]
  },
  {
   "cell_type": "code",
   "execution_count": 6,
   "metadata": {
    "scrolled": true
   },
   "outputs": [
    {
     "name": "stdout",
     "output_type": "stream",
     "text": [
      "Percentage of not click impressions:  0.5\n",
      "Percentage of click impression:  0.5\n",
      "Percentage of booking:  0.3118591664826324\n",
      "Percentage of not booking:  0.6881408335173675\n",
      "Total number of records in resampled data:  443758\n"
     ]
    }
   ],
   "source": [
    "print(\"Percentage of not click impressions: \", len(dataset_train_new[dataset_train_new.click_bool == 0])/len(dataset_train_new))\n",
    "print(\"Percentage of click impression: \", len(dataset_train_new[dataset_train_new.click_bool == 1])/len(dataset_train_new))\n",
    "print(\"Percentage of booking: \",len(dataset_train_new[dataset_train_new.booking_bool == 1])/len(dataset_train_new))\n",
    "print(\"Percentage of not booking: \",len(dataset_train_new[dataset_train_new.booking_bool == 0])/len(dataset_train_new))\n",
    "print(\"Total number of records in resampled data: \", len(dataset_train_new))\n",
    "dataset_train_new.to_csv(\"dataset_train_new.csv\", index=False)"
   ]
  },
  {
   "cell_type": "code",
   "execution_count": 9,
   "metadata": {},
   "outputs": [
    {
     "name": "stdout",
     "output_type": "stream",
     "text": [
      "<class 'pandas.core.frame.DataFrame'>\n",
      "RangeIndex: 4959183 entries, 0 to 4959182\n",
      "Data columns (total 22 columns):\n",
      "srch_id                        int64\n",
      "site_id                        int64\n",
      "visitor_location_country_id    int64\n",
      "prop_country_id                int64\n",
      "prop_id                        int64\n",
      "prop_starrating                int64\n",
      "prop_review_score              float64\n",
      "prop_brand_bool                int64\n",
      "prop_location_score1           float64\n",
      "prop_location_score2           float64\n",
      "prop_log_historical_price      float64\n",
      "price_usd                      float64\n",
      "promotion_flag                 int64\n",
      "srch_destination_id            int64\n",
      "srch_length_of_stay            int64\n",
      "srch_booking_window            int64\n",
      "srch_adults_count              int64\n",
      "srch_children_count            int64\n",
      "srch_room_count                int64\n",
      "srch_saturday_night_bool       int64\n",
      "orig_destination_distance      float64\n",
      "random_bool                    int64\n",
      "dtypes: float64(6), int64(16)\n",
      "memory usage: 832.4 MB\n"
     ]
    }
   ],
   "source": [
    "dataset_test.info()"
   ]
  },
  {
   "cell_type": "code",
   "execution_count": 3,
   "metadata": {},
   "outputs": [],
   "source": [
    "dataset_test = pd.read_csv('./test_set_VU_DM.csv')\n",
    "\n",
    "cols_to_drop = ['date_time', 'visitor_hist_starrating', 'visitor_hist_adr_usd', 'srch_query_affinity_score', 'comp1_rate', 'comp1_inv', 'comp1_rate_percent_diff', 'comp2_rate_percent_diff', 'comp3_rate_percent_diff', 'comp4_rate_percent_diff', 'comp5_rate_percent_diff', 'comp6_rate_percent_diff', 'comp7_rate_percent_diff', 'comp8_rate_percent_diff', 'comp2_rate', 'comp3_rate', 'comp4_rate', 'comp5_rate', 'comp6_rate', 'comp7_rate', 'comp8_rate', 'comp2_inv', 'comp3_inv', 'comp4_inv', 'comp5_inv', 'comp6_inv', 'comp7_inv', 'comp8_inv']\n",
    "dataset_test.drop(cols_to_drop, axis=1, inplace=True)"
   ]
  },
  {
   "cell_type": "code",
   "execution_count": 7,
   "metadata": {},
   "outputs": [
    {
     "name": "stderr",
     "output_type": "stream",
     "text": [
      "/Applications/anaconda/anaconda/lib/python3.6/site-packages/ipykernel_launcher.py:9: SettingWithCopyWarning: \n",
      "A value is trying to be set on a copy of a slice from a DataFrame\n",
      "\n",
      "See the caveats in the documentation: http://pandas.pydata.org/pandas-docs/stable/indexing.html#indexing-view-versus-copy\n",
      "  if __name__ == '__main__':\n"
     ]
    }
   ],
   "source": [
    "import random\n",
    "def randomiseMissingData(df2):\n",
    "    \"randomise missing data for DataFrame (within a column)\"\n",
    "    df = df2.copy()\n",
    "    for col in df.columns:\n",
    "        data = df['prop_review_score']\n",
    "        mask = data.isnull()\n",
    "        samples = random.choices( data[~mask].values , k = mask.sum() )\n",
    "        data[mask] = samples\n",
    "    return df\n",
    "\n",
    "dataset_test = randomiseMissingData(dataset_test)\n",
    "\n",
    "dataset_test['prop_location_score2'].fillna((dataset_test['prop_location_score2'].mean()), inplace=True)\n",
    "dataset_test['orig_destination_distance'].fillna((dataset_test['orig_destination_distance'].median()), inplace=True)"
   ]
  },
  {
   "cell_type": "code",
   "execution_count": 12,
   "metadata": {},
   "outputs": [],
   "source": [
    "dataset_test.isnull().sum()\n",
    "dataset_test.to_csv(\"dataset_test_new.csv\", index=False)"
   ]
  },
  {
   "cell_type": "code",
   "execution_count": null,
   "metadata": {
    "collapsed": true
   },
   "outputs": [],
   "source": []
  },
  {
   "cell_type": "code",
   "execution_count": null,
   "metadata": {
    "collapsed": true
   },
   "outputs": [],
   "source": [
    "correlation = dataset_train_new.corr()\n",
    "#correlation.to_csv(\"correlation.csv\", index=False)\n",
    "plt.figure(figsize=(25, 25))\n",
    "sns.heatmap(correlation, vmax=1, square=True,annot=True,cmap='viridis')\n",
    "plt.title('Correlation between different fearures')\n",
    "plt.savefig('Correlation.png')"
   ]
  }
 ],
 "metadata": {
  "kernelspec": {
   "display_name": "Python 3",
   "language": "python",
   "name": "python3"
  },
  "language_info": {
   "codemirror_mode": {
    "name": "ipython",
    "version": 3
   },
   "file_extension": ".py",
   "mimetype": "text/x-python",
   "name": "python",
   "nbconvert_exporter": "python",
   "pygments_lexer": "ipython3",
   "version": "3.6.1"
  }
 },
 "nbformat": 4,
 "nbformat_minor": 2
}
