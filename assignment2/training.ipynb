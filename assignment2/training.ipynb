{
 "cells": [
  {
   "cell_type": "code",
   "execution_count": 1,
   "metadata": {
    "scrolled": true
   },
   "outputs": [],
   "source": [
    "import pandas as pd\n",
    "training_set = pd.read_csv('./dataset_train_new.csv')\n",
    "#training_set.info()"
   ]
  },
  {
   "cell_type": "code",
   "execution_count": 2,
   "metadata": {
    "collapsed": true
   },
   "outputs": [],
   "source": [
    "training_set['Y']=training_set['click_bool'] + training_set['booking_bool']*4"
   ]
  },
  {
   "cell_type": "code",
   "execution_count": 3,
   "metadata": {
    "collapsed": true
   },
   "outputs": [],
   "source": [
    "import numpy as np\n",
    "click_bool = np.array(training_set['click_bool'])\n",
    "booking_bool = np.array(training_set['booking_bool'])\n",
    "position = np.array(training_set['position'])\n",
    "y = np.array(training_set['Y'])"
   ]
  },
  {
   "cell_type": "code",
   "execution_count": 4,
   "metadata": {
    "collapsed": true
   },
   "outputs": [],
   "source": [
    "cols_to_drop = ['click_bool', 'booking_bool', 'position', 'Y']\n",
    "training_set.drop(cols_to_drop, axis=1, inplace=True)"
   ]
  },
  {
   "cell_type": "code",
   "execution_count": null,
   "metadata": {},
   "outputs": [],
   "source": []
  },
  {
   "cell_type": "code",
   "execution_count": 5,
   "metadata": {
    "collapsed": true
   },
   "outputs": [],
   "source": [
    "from sklearn.ensemble import RandomForestClassifier\n",
    "import datetime as time"
   ]
  },
  {
   "cell_type": "code",
   "execution_count": 8,
   "metadata": {},
   "outputs": [
    {
     "name": "stdout",
     "output_type": "stream",
     "text": [
      "00:00:00\n"
     ]
    }
   ],
   "source": [
    "RF = RandomForestClassifier(n_estimators=500, max_features = 22, random_state = 1)\n",
    "RF.fit(training_set, y)"
   ]
  },
  {
   "cell_type": "markdown",
   "metadata": {},
   "source": [
    "The next part start testing"
   ]
  },
  {
   "cell_type": "code",
   "execution_count": 7,
   "metadata": {},
   "outputs": [
    {
     "name": "stdout",
     "output_type": "stream",
     "text": [
      "<class 'pandas.core.frame.DataFrame'>\n",
      "RangeIndex: 443758 entries, 0 to 443757\n",
      "Data columns (total 22 columns):\n",
      "srch_id                        443758 non-null int64\n",
      "site_id                        443758 non-null int64\n",
      "visitor_location_country_id    443758 non-null int64\n",
      "prop_country_id                443758 non-null int64\n",
      "prop_id                        443758 non-null int64\n",
      "prop_starrating                443758 non-null int64\n",
      "prop_review_score              443758 non-null float64\n",
      "prop_brand_bool                443758 non-null int64\n",
      "prop_location_score1           443758 non-null float64\n",
      "prop_location_score2           443758 non-null float64\n",
      "prop_log_historical_price      443758 non-null float64\n",
      "price_usd                      443758 non-null float64\n",
      "promotion_flag                 443758 non-null int64\n",
      "srch_destination_id            443758 non-null int64\n",
      "srch_length_of_stay            443758 non-null int64\n",
      "srch_booking_window            443758 non-null int64\n",
      "srch_adults_count              443758 non-null int64\n",
      "srch_children_count            443758 non-null int64\n",
      "srch_room_count                443758 non-null int64\n",
      "srch_saturday_night_bool       443758 non-null int64\n",
      "orig_destination_distance      443758 non-null float64\n",
      "random_bool                    443758 non-null int64\n",
      "dtypes: float64(6), int64(16)\n",
      "memory usage: 74.5 MB\n"
     ]
    }
   ],
   "source": [
    "training_set.info()"
   ]
  },
  {
   "cell_type": "code",
   "execution_count": 10,
   "metadata": {},
   "outputs": [],
   "source": [
    "testing_set = pd.read_csv('./dataset_test_new.csv')"
   ]
  },
  {
   "cell_type": "code",
   "execution_count": 11,
   "metadata": {
    "collapsed": true
   },
   "outputs": [],
   "source": [
    "y_test = RF.predict(testing_set)"
   ]
  },
  {
   "cell_type": "code",
   "execution_count": 13,
   "metadata": {},
   "outputs": [],
   "source": [
    "testing_set['likelihood'] = y_test\n",
    "testing_set = testing_set.sort_values(['srch_id', 'likelihood'], ascending=[True, False])\n",
    "testing_set = testing_set.reset_index(drop = True)\n",
    "submit = testing_set.filter(['srch_id', 'prop_id'], axis=1)\n",
    "\n",
    "submit.to_csv('submission_sample_gao.csv', index=False)"
   ]
  },
  {
   "cell_type": "code",
   "execution_count": null,
   "metadata": {
    "collapsed": true
   },
   "outputs": [],
   "source": []
  }
 ],
 "metadata": {
  "kernelspec": {
   "display_name": "Python 3",
   "language": "python",
   "name": "python3"
  },
  "language_info": {
   "codemirror_mode": {
    "name": "ipython",
    "version": 3
   },
   "file_extension": ".py",
   "mimetype": "text/x-python",
   "name": "python",
   "nbconvert_exporter": "python",
   "pygments_lexer": "ipython3",
   "version": "3.6.1"
  }
 },
 "nbformat": 4,
 "nbformat_minor": 2
}
