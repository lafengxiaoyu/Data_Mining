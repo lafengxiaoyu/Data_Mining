{
 "cells": [
  {
   "cell_type": "code",
   "execution_count": 1,
   "metadata": {
    "scrolled": true
   },
   "outputs": [
    {
     "name": "stderr",
     "output_type": "stream",
     "text": [
      "F:\\anaconda\\lib\\site-packages\\sklearn\\ensemble\\weight_boosting.py:29: DeprecationWarning: numpy.core.umath_tests is an internal NumPy module and should not be imported. It will be removed in a future NumPy release.\n",
      "  from numpy.core.umath_tests import inner1d\n",
      "Using TensorFlow backend.\n"
     ]
    }
   ],
   "source": [
    "import numpy as np\n",
    "import pandas as pd\n",
    "from sklearn.ensemble import RandomForestClassifier\n",
    "from sklearn.model_selection import train_test_split\n",
    "from keras.models import Sequential\n",
    "from keras.layers import Dense\n",
    "np.random.seed(7)\n",
    "from keras.models import Sequential\n",
    "from keras.layers import Dense\n",
    "\n",
    "import datetime as time\n",
    "\n",
    "training_set = pd.read_csv('./dataset_train_new.csv')\n",
    "#training_set.info()"
   ]
  },
  {
   "cell_type": "code",
   "execution_count": 2,
   "metadata": {},
   "outputs": [],
   "source": [
    "training_set['Y']=training_set['click_bool'] + training_set['booking_bool']*4\n",
    "testing_set = pd.read_csv('./dataset_test_new.csv')"
   ]
  },
  {
   "cell_type": "code",
   "execution_count": 3,
   "metadata": {},
   "outputs": [],
   "source": [
    "click_bool = np.array(training_set['click_bool'])\n",
    "booking_bool = np.array(training_set['booking_bool'])\n",
    "position = np.array(training_set['position'])\n",
    "y = np.array(training_set['Y'])"
   ]
  },
  {
   "cell_type": "code",
   "execution_count": 4,
   "metadata": {},
   "outputs": [],
   "source": [
    "cols_to_drop = ['click_bool', 'booking_bool', 'position']\n",
    "training_set.drop(cols_to_drop, axis=1, inplace=True)"
   ]
  },
  {
   "cell_type": "code",
   "execution_count": 5,
   "metadata": {},
   "outputs": [],
   "source": [
    "smalltrain = training_set.head(int(len(training_set)))\n",
    "validation = training_set.tail(int(len(training_set)))"
   ]
  },
  {
   "cell_type": "code",
   "execution_count": 6,
   "metadata": {},
   "outputs": [],
   "source": [
    "y_validation, x_validation = validation['Y'], validation.drop(columns='Y')\n",
    "y_smalltrain, x_smalltrain = smalltrain['Y'], smalltrain.drop(columns='Y')\n",
    "y_train, x_train = training_set['Y'], training_set.drop(columns='Y')\n",
    "x_test = testing_set"
   ]
  },
  {
   "cell_type": "code",
   "execution_count": null,
   "metadata": {},
   "outputs": [],
   "source": []
  },
  {
   "cell_type": "code",
   "execution_count": 7,
   "metadata": {},
   "outputs": [
    {
     "name": "stdout",
     "output_type": "stream",
     "text": [
      "<class 'pandas.core.frame.DataFrame'>\n",
      "RangeIndex: 443758 entries, 0 to 443757\n",
      "Data columns (total 23 columns):\n",
      "srch_id                        443758 non-null int64\n",
      "site_id                        443758 non-null int64\n",
      "visitor_location_country_id    443758 non-null int64\n",
      "prop_country_id                443758 non-null int64\n",
      "prop_id                        443758 non-null int64\n",
      "prop_starrating                443758 non-null int64\n",
      "prop_review_score              443758 non-null float64\n",
      "prop_brand_bool                443758 non-null int64\n",
      "prop_location_score1           443758 non-null float64\n",
      "prop_location_score2           443758 non-null float64\n",
      "prop_log_historical_price      443758 non-null float64\n",
      "price_usd                      443758 non-null float64\n",
      "promotion_flag                 443758 non-null int64\n",
      "srch_destination_id            443758 non-null int64\n",
      "srch_length_of_stay            443758 non-null int64\n",
      "srch_booking_window            443758 non-null int64\n",
      "srch_adults_count              443758 non-null int64\n",
      "srch_children_count            443758 non-null int64\n",
      "srch_room_count                443758 non-null int64\n",
      "srch_saturday_night_bool       443758 non-null int64\n",
      "orig_destination_distance      443758 non-null float64\n",
      "random_bool                    443758 non-null int64\n",
      "Y                              443758 non-null int64\n",
      "dtypes: float64(6), int64(17)\n",
      "memory usage: 77.9 MB\n",
      "<class 'pandas.core.frame.DataFrame'>\n",
      "RangeIndex: 999 entries, 1 to 999\n",
      "Data columns (total 22 columns):\n",
      "srch_id                        999 non-null int64\n",
      "site_id                        999 non-null int64\n",
      "visitor_location_country_id    999 non-null int64\n",
      "prop_country_id                999 non-null int64\n",
      "prop_id                        999 non-null int64\n",
      "prop_starrating                999 non-null int64\n",
      "prop_review_score              999 non-null float64\n",
      "prop_brand_bool                999 non-null int64\n",
      "prop_location_score1           999 non-null float64\n",
      "prop_location_score2           999 non-null float64\n",
      "prop_log_historical_price      999 non-null float64\n",
      "price_usd                      999 non-null float64\n",
      "promotion_flag                 999 non-null int64\n",
      "srch_destination_id            999 non-null int64\n",
      "srch_length_of_stay            999 non-null int64\n",
      "srch_booking_window            999 non-null int64\n",
      "srch_adults_count              999 non-null int64\n",
      "srch_children_count            999 non-null int64\n",
      "srch_room_count                999 non-null int64\n",
      "srch_saturday_night_bool       999 non-null int64\n",
      "orig_destination_distance      999 non-null float64\n",
      "random_bool                    999 non-null int64\n",
      "dtypes: float64(6), int64(16)\n",
      "memory usage: 171.8 KB\n"
     ]
    }
   ],
   "source": [
    "training_set.info()\n",
    "x_smalltrain.info()"
   ]
  },
  {
   "cell_type": "code",
   "execution_count": 8,
   "metadata": {},
   "outputs": [],
   "source": [
    "RF_All = RandomForestClassifier(n_estimators=500, max_features = 22, random_state = 1)\n",
    "RF_Property = RandomForestClassifier(n_estimators=500,max_features=8,random_state=1)\n",
    "RF_Website = RandomForestClassifier(n_estimators=500, max_features = 5, random_state=1)\n",
    "RF_User = RandomForestClassifier(n_estimators=500, max_features = 9,random_state=1)\n",
    "\n"
   ]
  },
  {
   "cell_type": "code",
   "execution_count": 9,
   "metadata": {},
   "outputs": [],
   "source": [
    "all_smalltrain=x_smalltrain\n",
    "all_val=x_validation\n",
    "all_test=x_test\n",
    "\n",
    "Property_attributes = ['prop_country_id', 'prop_id', 'prop_starrating','prop_review_score', 'prop_brand_bool',\n",
    "                                    'prop_location_score1', 'prop_location_score2', 'prop_log_historical_price']\n",
    "Website_attributes = ['srch_id', 'site_id', 'price_usd', 'promotion_flag', 'random_bool']\n",
    "User_attributes = ['visitor_location_country_id', 'srch_destination_id', 'srch_length_of_stay',\n",
    "                                 'srch_booking_window', 'srch_adults_count', 'srch_children_count', 'srch_room_count',\n",
    "                                 'srch_saturday_night_bool', 'orig_destination_distance']\n",
    "\n",
    "Property_smalltrain=x_smalltrain[Property_attributes]\n",
    "Property_val=x_validation[Property_attributes]\n",
    "Property_test=x_test[Property_attributes]\n",
    "\n",
    "Website_smalltrain=x_smalltrain[Website_attributes]\n",
    "Website_val=x_validation[Website_attributes]\n",
    "Website_test=x_test[Website_attributes]\n",
    "\n",
    "User_smalltrain=x_smalltrain[User_attributes]\n",
    "User_val=x_validation[User_attributes]\n",
    "User_test=x_test[User_attributes]"
   ]
  },
  {
   "cell_type": "code",
   "execution_count": 10,
   "metadata": {},
   "outputs": [
    {
     "name": "stdout",
     "output_type": "stream",
     "text": [
      "<class 'pandas.core.frame.DataFrame'>\n",
      "RangeIndex: 999 entries, 1 to 999\n",
      "Data columns (total 8 columns):\n",
      "prop_country_id              999 non-null int64\n",
      "prop_id                      999 non-null int64\n",
      "prop_starrating              999 non-null int64\n",
      "prop_review_score            999 non-null float64\n",
      "prop_brand_bool              999 non-null int64\n",
      "prop_location_score1         999 non-null float64\n",
      "prop_location_score2         999 non-null float64\n",
      "prop_log_historical_price    999 non-null float64\n",
      "dtypes: float64(4), int64(4)\n",
      "memory usage: 62.5 KB\n"
     ]
    }
   ],
   "source": [
    "Property_smalltrain.info()"
   ]
  },
  {
   "cell_type": "code",
   "execution_count": 11,
   "metadata": {},
   "outputs": [
    {
     "name": "stdout",
     "output_type": "stream",
     "text": [
      "done\n",
      "done\n",
      "done\n",
      "done\n"
     ]
    }
   ],
   "source": [
    "RF_All.fit(all_smalltrain, y_smalltrain)\n",
    "print('done')\n",
    "RF_Property.fit(Property_smalltrain, y_smalltrain)\n",
    "print('done')\n",
    "RF_Website.fit(Website_smalltrain, y_smalltrain)\n",
    "print('done')\n",
    "RF_User.fit(User_smalltrain, y_smalltrain)\n",
    "print('done')"
   ]
  },
  {
   "cell_type": "markdown",
   "metadata": {},
   "source": [
    "The next part start testing"
   ]
  },
  {
   "cell_type": "code",
   "execution_count": 12,
   "metadata": {},
   "outputs": [
    {
     "name": "stdout",
     "output_type": "stream",
     "text": [
      "<class 'pandas.core.frame.DataFrame'>\n",
      "RangeIndex: 443758 entries, 0 to 443757\n",
      "Data columns (total 23 columns):\n",
      "srch_id                        443758 non-null int64\n",
      "site_id                        443758 non-null int64\n",
      "visitor_location_country_id    443758 non-null int64\n",
      "prop_country_id                443758 non-null int64\n",
      "prop_id                        443758 non-null int64\n",
      "prop_starrating                443758 non-null int64\n",
      "prop_review_score              443758 non-null float64\n",
      "prop_brand_bool                443758 non-null int64\n",
      "prop_location_score1           443758 non-null float64\n",
      "prop_location_score2           443758 non-null float64\n",
      "prop_log_historical_price      443758 non-null float64\n",
      "price_usd                      443758 non-null float64\n",
      "promotion_flag                 443758 non-null int64\n",
      "srch_destination_id            443758 non-null int64\n",
      "srch_length_of_stay            443758 non-null int64\n",
      "srch_booking_window            443758 non-null int64\n",
      "srch_adults_count              443758 non-null int64\n",
      "srch_children_count            443758 non-null int64\n",
      "srch_room_count                443758 non-null int64\n",
      "srch_saturday_night_bool       443758 non-null int64\n",
      "orig_destination_distance      443758 non-null float64\n",
      "random_bool                    443758 non-null int64\n",
      "Y                              443758 non-null int64\n",
      "dtypes: float64(6), int64(17)\n",
      "memory usage: 77.9 MB\n"
     ]
    }
   ],
   "source": [
    "training_set.info()"
   ]
  },
  {
   "cell_type": "code",
   "execution_count": 15,
   "metadata": {},
   "outputs": [],
   "source": [
    "treeResults=pd.DataFrame()\n",
    "i=1\n",
    "for RF in [[RF_User,User_val],[RF_Website,Website_val],[RF_Property,Property_val],[RF_All,all_val]]:\n",
    "    for tree in RF[0].estimators_:\n",
    "        treeResults[str(i)]=tree.predict(RF[1])\n",
    "        i+=1\n",
    "\n",
    "\n",
    "\n"
   ]
  },
  {
   "cell_type": "code",
   "execution_count": 16,
   "metadata": {},
   "outputs": [
    {
     "name": "stdout",
     "output_type": "stream",
     "text": [
      "WARNING:tensorflow:From F:\\anaconda\\lib\\site-packages\\tensorflow\\python\\framework\\op_def_library.py:263: colocate_with (from tensorflow.python.framework.ops) is deprecated and will be removed in a future version.\n",
      "Instructions for updating:\n",
      "Colocations handled automatically by placer.\n",
      "WARNING:tensorflow:From F:\\anaconda\\lib\\site-packages\\tensorflow\\python\\ops\\math_ops.py:3066: to_int32 (from tensorflow.python.ops.math_ops) is deprecated and will be removed in a future version.\n",
      "Instructions for updating:\n",
      "Use tf.cast instead.\n",
      "Epoch 1/3\n",
      "99/99 [==============================] - 0s 2ms/step - loss: 0.6931 - acc: 1.0000\n",
      "Epoch 2/3\n",
      "99/99 [==============================] - 0s 40us/step - loss: 0.6926 - acc: 1.0000\n",
      "Epoch 3/3\n",
      "99/99 [==============================] - 0s 30us/step - loss: 0.6922 - acc: 1.0000\n"
     ]
    },
    {
     "data": {
      "text/plain": [
       "<keras.callbacks.History at 0x14101908>"
      ]
     },
     "execution_count": 16,
     "metadata": {},
     "output_type": "execute_result"
    }
   ],
   "source": [
    "model = Sequential()\n",
    "model.add(Dense(10, input_dim=2000, activation='relu'))\n",
    "model.add(Dense(100, activation='relu'))\n",
    "model.add(Dense(1, activation='sigmoid'))\n",
    "\n",
    "model.compile(loss='binary_crossentropy', optimizer='adam', metrics=['accuracy'])\n",
    "model.fit(treeResults, y_validation, epochs=3, batch_size=100)"
   ]
  },
  {
   "cell_type": "code",
   "execution_count": 20,
   "metadata": {},
   "outputs": [],
   "source": [
    "treeResults_test=pd.DataFrame()\n",
    "i=1\n",
    "for RF in [[RF_User,User_val],[RF_Website,Website_val],[RF_Property,Property_val],[RF_All,all_val]]:\n",
    "    for tree in RF[0].estimators_:\n",
    "        treeResults_test[str(i)]=tree.predict(RF[1])\n",
    "        i+=1\n",
    "    #     print(i,  metrics.roc_auc_score(y_validation,treeResults[str(i)]))\n",
    "\n",
    "predictions = model.predict(treeResults_test)\n",
    "predictions=[i[0] for i in predictions]"
   ]
  },
  {
   "cell_type": "code",
   "execution_count": 25,
   "metadata": {},
   "outputs": [
    {
     "name": "stderr",
     "output_type": "stream",
     "text": [
      "F:\\anaconda\\lib\\site-packages\\ipykernel_launcher.py:2: SettingWithCopyWarning: \n",
      "A value is trying to be set on a copy of a slice from a DataFrame.\n",
      "Try using .loc[row_indexer,col_indexer] = value instead\n",
      "\n",
      "See the caveats in the documentation: http://pandas.pydata.org/pandas-docs/stable/indexing.html#indexing-view-versus-copy\n",
      "  \n"
     ]
    }
   ],
   "source": [
    "testing_set['likelihood'] = predictions\n",
    "testing_set = testing_set.sort_values(['srch_id', 'likelihood'], ascending=[True, False])\n",
    "testing_set = testing_set.reset_index(drop = True)\n",
    "submit = testing_set.filter(['srch_id', 'prop_id'], axis=1)\n",
    "\n",
    "submit.to_csv('submission_sample_gao.csv', index=False)"
   ]
  },
  {
   "cell_type": "code",
   "execution_count": null,
   "metadata": {
    "collapsed": true
   },
   "outputs": [],
   "source": []
  }
 ],
 "metadata": {
  "kernelspec": {
   "display_name": "Python 3",
   "language": "python",
   "name": "python3"
  },
  "language_info": {
   "codemirror_mode": {
    "name": "ipython",
    "version": 3
   },
   "file_extension": ".py",
   "mimetype": "text/x-python",
   "name": "python",
   "nbconvert_exporter": "python",
   "pygments_lexer": "ipython3",
   "version": "3.7.0"
  }
 },
 "nbformat": 4,
 "nbformat_minor": 2
}
