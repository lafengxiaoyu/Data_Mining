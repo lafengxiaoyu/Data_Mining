{
 "cells": [
  {
   "cell_type": "code",
   "execution_count": 1,
   "metadata": {},
   "outputs": [],
   "source": [
    "import matplotlib.pyplot as plt\n",
    "import pandas as pd\n",
    "from pandas.plotting import scatter_matrix\n",
    "import seaborn as sns\n",
    "import numpy as np"
   ]
  },
  {
   "cell_type": "code",
   "execution_count": 2,
   "metadata": {},
   "outputs": [],
   "source": [
    "dataset_train = pd.read_csv('./training_set_VU_DM.csv')\n",
    "\n",
    "cols_to_drop = ['date_time', 'visitor_hist_starrating', 'visitor_hist_adr_usd', 'srch_query_affinity_score', 'comp1_rate', 'comp1_inv', 'comp1_rate_percent_diff', 'comp2_rate_percent_diff', 'comp3_rate_percent_diff', 'comp4_rate_percent_diff', 'comp5_rate_percent_diff', 'comp6_rate_percent_diff', 'comp7_rate_percent_diff', 'comp8_rate_percent_diff', 'comp2_rate', 'comp3_rate', 'comp4_rate', 'comp5_rate', 'comp6_rate', 'comp7_rate', 'comp8_rate', 'comp2_inv', 'comp3_inv', 'comp4_inv', 'comp5_inv', 'comp6_inv', 'comp7_inv', 'comp8_inv', 'gross_bookings_usd']\n",
    "dataset_train.drop(cols_to_drop, axis=1, inplace=True)"
   ]
  },
  {
   "cell_type": "code",
   "execution_count": 3,
   "metadata": {},
   "outputs": [
    {
     "name": "stderr",
     "output_type": "stream",
     "text": [
      "F:\\anaconda\\lib\\site-packages\\ipykernel_launcher.py:9: SettingWithCopyWarning: \n",
      "A value is trying to be set on a copy of a slice from a DataFrame\n",
      "\n",
      "See the caveats in the documentation: http://pandas.pydata.org/pandas-docs/stable/indexing.html#indexing-view-versus-copy\n",
      "  if __name__ == '__main__':\n"
     ]
    }
   ],
   "source": [
    "import random\n",
    "def randomiseMissingData(df2):\n",
    "    \"randomise missing data for DataFrame (within a column)\"\n",
    "    df = df2.copy()\n",
    "    for col in df.columns:\n",
    "        data = df['prop_review_score']\n",
    "        mask = data.isnull()\n",
    "        samples = random.choices( data[~mask].values , k = mask.sum() )\n",
    "        data[mask] = samples\n",
    "    return df\n",
    "\n",
    "dataset_train_new = randomiseMissingData(dataset_train)\n",
    "\n",
    "dataset_train_new['prop_location_score2'].fillna((dataset_train_new['prop_location_score2'].mean()), inplace=True)\n",
    "dataset_train_new['orig_destination_distance'].fillna((dataset_train_new['orig_destination_distance'].median()), inplace=True)"
   ]
  },
  {
   "cell_type": "code",
   "execution_count": 4,
   "metadata": {},
   "outputs": [
    {
     "name": "stdout",
     "output_type": "stream",
     "text": [
      "<class 'pandas.core.frame.DataFrame'>\n",
      "Int64Index: 443758 entries, 4578778 to 2283934\n",
      "Data columns (total 25 columns):\n",
      "srch_id                        443758 non-null int64\n",
      "site_id                        443758 non-null int64\n",
      "visitor_location_country_id    443758 non-null int64\n",
      "prop_country_id                443758 non-null int64\n",
      "prop_id                        443758 non-null int64\n",
      "prop_starrating                443758 non-null int64\n",
      "prop_review_score              443164 non-null float64\n",
      "prop_brand_bool                443758 non-null int64\n",
      "prop_location_score1           443758 non-null float64\n",
      "prop_location_score2           367256 non-null float64\n",
      "prop_log_historical_price      443758 non-null float64\n",
      "position                       443758 non-null int64\n",
      "price_usd                      443758 non-null float64\n",
      "promotion_flag                 443758 non-null int64\n",
      "srch_destination_id            443758 non-null int64\n",
      "srch_length_of_stay            443758 non-null int64\n",
      "srch_booking_window            443758 non-null int64\n",
      "srch_adults_count              443758 non-null int64\n",
      "srch_children_count            443758 non-null int64\n",
      "srch_room_count                443758 non-null int64\n",
      "srch_saturday_night_bool       443758 non-null int64\n",
      "orig_destination_distance      297444 non-null float64\n",
      "random_bool                    443758 non-null int64\n",
      "click_bool                     443758 non-null int64\n",
      "booking_bool                   443758 non-null int64\n",
      "dtypes: float64(6), int64(19)\n",
      "memory usage: 88.0 MB\n"
     ]
    }
   ],
   "source": [
    "click_indices = dataset_train[dataset_train.click_bool == 1].index\n",
    "random_indices = np.random.choice(click_indices, len(dataset_train.loc[dataset_train.click_bool == 1]), replace=False)\n",
    "click_sample = dataset_train.loc[random_indices]\n",
    "\n",
    "not_click = dataset_train[dataset_train.click_bool == 0].index\n",
    "random_indices = np.random.choice(not_click, sum(dataset_train['click_bool']), replace=False)\n",
    "not_click_sample = dataset_train.loc[random_indices]\n",
    "\n",
    "dataset_train_new = pd.concat([not_click_sample, click_sample], axis=0)\n",
    "dataset_train_new.info()"
   ]
  },
  {
   "cell_type": "code",
   "execution_count": 5,
   "metadata": {},
   "outputs": [
    {
     "name": "stdout",
     "output_type": "stream",
     "text": [
      "Percentage of not click impressions:  0.5\n",
      "Percentage of click impression:  0.5\n",
      "Total number of records in resampled data:  443758\n"
     ]
    }
   ],
   "source": [
    "print(\"Percentage of not click impressions: \", len(dataset_train_new[dataset_train_new.click_bool == 0])/len(dataset_train_new))\n",
    "print(\"Percentage of click impression: \", len(dataset_train_new[dataset_train_new.click_bool == 1])/len(dataset_train_new))\n",
    "print(\"Total number of records in resampled data: \", len(dataset_train_new))"
   ]
  },
  {
   "cell_type": "code",
   "execution_count": 6,
   "metadata": {},
   "outputs": [],
   "source": [
    "dataset_train_new['prop_review_score'].fillna((dataset_train_new['prop_review_score'].mean()), inplace=True)\n",
    "dataset_train_new['prop_location_score2'].fillna((dataset_train_new['prop_location_score2'].mean()), inplace=True)\n",
    "dataset_train_new['orig_destination_distance'].fillna((dataset_train_new['orig_destination_distance'].median()), inplace=True)"
   ]
  },
  {
   "cell_type": "code",
   "execution_count": 7,
   "metadata": {},
   "outputs": [
    {
     "name": "stdout",
     "output_type": "stream",
     "text": [
      "<class 'pandas.core.frame.DataFrame'>\n",
      "Int64Index: 443758 entries, 4578778 to 2283934\n",
      "Data columns (total 25 columns):\n",
      "srch_id                        443758 non-null int64\n",
      "site_id                        443758 non-null int64\n",
      "visitor_location_country_id    443758 non-null int64\n",
      "prop_country_id                443758 non-null int64\n",
      "prop_id                        443758 non-null int64\n",
      "prop_starrating                443758 non-null int64\n",
      "prop_review_score              443758 non-null float64\n",
      "prop_brand_bool                443758 non-null int64\n",
      "prop_location_score1           443758 non-null float64\n",
      "prop_location_score2           443758 non-null float64\n",
      "prop_log_historical_price      443758 non-null float64\n",
      "position                       443758 non-null int64\n",
      "price_usd                      443758 non-null float64\n",
      "promotion_flag                 443758 non-null int64\n",
      "srch_destination_id            443758 non-null int64\n",
      "srch_length_of_stay            443758 non-null int64\n",
      "srch_booking_window            443758 non-null int64\n",
      "srch_adults_count              443758 non-null int64\n",
      "srch_children_count            443758 non-null int64\n",
      "srch_room_count                443758 non-null int64\n",
      "srch_saturday_night_bool       443758 non-null int64\n",
      "orig_destination_distance      443758 non-null float64\n",
      "random_bool                    443758 non-null int64\n",
      "click_bool                     443758 non-null int64\n",
      "booking_bool                   443758 non-null int64\n",
      "dtypes: float64(6), int64(19)\n",
      "memory usage: 88.0 MB\n"
     ]
    }
   ],
   "source": [
    "dataset_train_new.info()"
   ]
  },
  {
   "cell_type": "code",
   "execution_count": 8,
   "metadata": {},
   "outputs": [],
   "source": [
    "dataset_test = pd.read_csv('./test_set_VU_DM.csv')\n"
   ]
  },
  {
   "cell_type": "code",
   "execution_count": 10,
   "metadata": {},
   "outputs": [
    {
     "data": {
      "text/plain": [
       "srch_id                              0\n",
       "site_id                              0\n",
       "visitor_location_country_id          0\n",
       "prop_country_id                      0\n",
       "prop_id                              0\n",
       "prop_starrating                      0\n",
       "prop_review_score                 7266\n",
       "prop_brand_bool                      0\n",
       "prop_location_score1                 0\n",
       "prop_location_score2           1088032\n",
       "prop_log_historical_price            0\n",
       "price_usd                            0\n",
       "promotion_flag                       0\n",
       "srch_destination_id                  0\n",
       "srch_length_of_stay                  0\n",
       "srch_booking_window                  0\n",
       "srch_adults_count                    0\n",
       "srch_children_count                  0\n",
       "srch_room_count                      0\n",
       "srch_saturday_night_bool             0\n",
       "orig_destination_distance      1608679\n",
       "random_bool                          0\n",
       "dtype: int64"
      ]
     },
     "execution_count": 10,
     "metadata": {},
     "output_type": "execute_result"
    }
   ],
   "source": [
    "cols_to_drop = ['date_time', 'visitor_hist_starrating', 'visitor_hist_adr_usd', 'srch_query_affinity_score', 'comp1_rate', 'comp1_inv', 'comp1_rate_percent_diff', 'comp2_rate_percent_diff', 'comp3_rate_percent_diff', 'comp4_rate_percent_diff', 'comp5_rate_percent_diff', 'comp6_rate_percent_diff', 'comp7_rate_percent_diff', 'comp8_rate_percent_diff', 'comp2_rate', 'comp3_rate', 'comp4_rate', 'comp5_rate', 'comp6_rate', 'comp7_rate', 'comp8_rate', 'comp2_inv', 'comp3_inv', 'comp4_inv', 'comp5_inv', 'comp6_inv', 'comp7_inv', 'comp8_inv']\n",
    "dataset_test.drop(cols_to_drop, axis=1, inplace=True)\n",
    "dataset_test.isnull().sum()"
   ]
  },
  {
   "cell_type": "code",
   "execution_count": 24,
   "metadata": {},
   "outputs": [
    {
     "name": "stderr",
     "output_type": "stream",
     "text": [
      "F:\\anaconda\\lib\\site-packages\\ipykernel_launcher.py:9: SettingWithCopyWarning: \n",
      "A value is trying to be set on a copy of a slice from a DataFrame\n",
      "\n",
      "See the caveats in the documentation: http://pandas.pydata.org/pandas-docs/stable/indexing.html#indexing-view-versus-copy\n",
      "  if __name__ == '__main__':\n"
     ]
    },
    {
     "data": {
      "text/plain": [
       "srch_id                        0\n",
       "site_id                        0\n",
       "visitor_location_country_id    0\n",
       "prop_country_id                0\n",
       "prop_id                        0\n",
       "prop_starrating                0\n",
       "prop_review_score              0\n",
       "prop_brand_bool                0\n",
       "prop_location_score1           0\n",
       "prop_location_score2           0\n",
       "prop_log_historical_price      0\n",
       "price_usd                      0\n",
       "promotion_flag                 0\n",
       "srch_destination_id            0\n",
       "srch_length_of_stay            0\n",
       "srch_booking_window            0\n",
       "srch_adults_count              0\n",
       "srch_children_count            0\n",
       "srch_room_count                0\n",
       "srch_saturday_night_bool       0\n",
       "orig_destination_distance      0\n",
       "random_bool                    0\n",
       "dtype: int64"
      ]
     },
     "execution_count": 24,
     "metadata": {},
     "output_type": "execute_result"
    }
   ],
   "source": [
    "dataset_test= randomiseMissingData(dataset_test)\n",
    "\n",
    "dataset_test['prop_location_score2'].fillna((dataset_test_new['prop_location_score2'].mean()), inplace=True)\n",
    "dataset_test['orig_destination_distance'].fillna((dataset_test_new['orig_destination_distance'].median()), inplace=True)\n",
    "\n",
    "dataset_test.isnull().sum()"
   ]
  },
  {
   "cell_type": "code",
   "execution_count": 14,
   "metadata": {},
   "outputs": [
    {
     "data": {
      "text/plain": [
       "srch_id                              0\n",
       "site_id                              0\n",
       "visitor_location_country_id          0\n",
       "prop_country_id                      0\n",
       "prop_id                              0\n",
       "prop_starrating                      0\n",
       "prop_review_score                 7266\n",
       "prop_brand_bool                      0\n",
       "prop_location_score1                 0\n",
       "prop_location_score2           1088032\n",
       "prop_log_historical_price            0\n",
       "price_usd                            0\n",
       "promotion_flag                       0\n",
       "srch_destination_id                  0\n",
       "srch_length_of_stay                  0\n",
       "srch_booking_window                  0\n",
       "srch_adults_count                    0\n",
       "srch_children_count                  0\n",
       "srch_room_count                      0\n",
       "srch_saturday_night_bool             0\n",
       "orig_destination_distance      1608679\n",
       "random_bool                          0\n",
       "dtype: int64"
      ]
     },
     "execution_count": 14,
     "metadata": {},
     "output_type": "execute_result"
    }
   ],
   "source": [
    "#dataset_test_new['prop_review_score'].fillna((dataset_test_new['prop_review_score'].mean()), inplace=True)\n",
    "#dataset_test_new['prop_location_score2'].fillna((dataset_test_new['prop_location_score2'].mean()), inplace=True)\n",
    "#dataset_test_new['orig_destination_distance'].fillna((dataset_test_new['orig_destination_distance'].median()), inplace=True)\n",
    "#dataset_test_new.isnull().sum()"
   ]
  },
  {
   "cell_type": "code",
   "execution_count": 13,
   "metadata": {},
   "outputs": [],
   "source": [
    "\n"
   ]
  },
  {
   "cell_type": "code",
   "execution_count": 14,
   "metadata": {},
   "outputs": [],
   "source": []
  },
  {
   "cell_type": "code",
   "execution_count": 16,
   "metadata": {},
   "outputs": [
    {
     "name": "stderr",
     "output_type": "stream",
     "text": [
      "F:\\anaconda\\lib\\site-packages\\sklearn\\ensemble\\weight_boosting.py:29: DeprecationWarning: numpy.core.umath_tests is an internal NumPy module and should not be imported. It will be removed in a future NumPy release.\n",
      "  from numpy.core.umath_tests import inner1d\n"
     ]
    }
   ],
   "source": [
    "from sklearn.ensemble import RandomForestClassifier\n",
    "from sklearn.linear_model import LogisticRegression\n",
    "from sklearn.linear_model import LinearRegression\n",
    "from sklearn.linear_model import LogisticRegression"
   ]
  },
  {
   "cell_type": "code",
   "execution_count": null,
   "metadata": {},
   "outputs": [],
   "source": []
  },
  {
   "cell_type": "code",
   "execution_count": 17,
   "metadata": {},
   "outputs": [],
   "source": [
    "x_train = dataset_train_new.drop('booking_bool', axis = 1, inplace = False)"
   ]
  },
  {
   "cell_type": "code",
   "execution_count": 36,
   "metadata": {},
   "outputs": [],
   "source": [
    "train_srch_id_ = np.array(x_train['srch_id'])\n",
    "train_site_id = np.array(x_train['site_id'])\n",
    "train_visitor_location_country_id = np.array(x_train['visitor_location_country_id'])\n",
    "train_prop_country_id = np.array(x_train['prop_country_id'])\n",
    "train_prop_id = np.array(x_train['prop_id'])\n",
    "train_prop_starrating = np.array(x_train['prop_starrating'])\n",
    "train_prop_review_score = np.array(x_train['prop_review_score'])\n",
    "train_prop_brand_bool = np.array(x_train['prop_brand_bool'])\n",
    "train_prop_location_score1 = np.array(x_train['prop_location_score1'])\n",
    "train_prop_location_score2 = np.array(x_train['prop_location_score2'])\n",
    "train_prop_log_historical_price = np.array(x_train['prop_log_historical_price'])\n",
    "#train_position = np.array(x_train['position'])\n",
    "train_price_usd = np.array(x_train['price_usd'])\n",
    "train_promotion_flag = np.array(x_train['promotion_flag'])\n",
    "train_srch_destination_id = np.array(x_train['srch_destination_id'])\n",
    "train_srch_length_of_stay = np.array(x_train['srch_length_of_stay'])\n",
    "train_srch_booking_window = np.array(x_train['srch_booking_window'])\n",
    "train_srch_adults_count = np.array(x_train['srch_adults_count'])\n",
    "train_srch_children_count = np.array(x_train['srch_children_count'])\n",
    "train_srch_room_count = np.array(x_train['srch_room_count'])\n",
    "train_srch_saturday_night_bool = np.array(x_train['srch_saturday_night_bool'])\n",
    "train_orig_destination_distance = np.array(x_train['orig_destination_distance'])\n",
    "train_random_bool = np.array(x_train['random_bool'])\n",
    "#train_click_bool = np.array(x_train['click_bool'])\n",
    "\n",
    "x = np.vstack((train_srch_id_,train_site_id,train_visitor_location_country_id,train_prop_country_id,train_prop_id,train_prop_starrating\n",
    "              ,train_prop_review_score,train_prop_review_score,train_prop_brand_bool,train_prop_location_score1,train_prop_location_score2,\n",
    "              train_prop_log_historical_price,train_price_usd,train_promotion_flag,train_srch_destination_id,train_srch_length_of_stay,\n",
    "              train_srch_booking_window,train_srch_adults_count,train_srch_children_count,train_srch_room_count,train_srch_saturday_night_bool,\n",
    "              train_orig_destination_distance,train_random_bool)).T\n",
    "y = np.array(dataset_train_new['booking_bool'])"
   ]
  },
  {
   "cell_type": "code",
   "execution_count": 23,
   "metadata": {},
   "outputs": [
    {
     "ename": "AttributeError",
     "evalue": "'numpy.ndarray' object has no attribute 'isnull'",
     "output_type": "error",
     "traceback": [
      "\u001b[1;31m---------------------------------------------------------------------------\u001b[0m",
      "\u001b[1;31mAttributeError\u001b[0m                            Traceback (most recent call last)",
      "\u001b[1;32m<ipython-input-23-05428386bb6f>\u001b[0m in \u001b[0;36m<module>\u001b[1;34m()\u001b[0m\n\u001b[1;32m----> 1\u001b[1;33m \u001b[0mx_test\u001b[0m\u001b[1;33m.\u001b[0m\u001b[0misnull\u001b[0m\u001b[1;33m(\u001b[0m\u001b[1;33m)\u001b[0m\u001b[1;33m.\u001b[0m\u001b[0msum\u001b[0m\u001b[1;33m(\u001b[0m\u001b[1;33m)\u001b[0m\u001b[1;33m\u001b[0m\u001b[0m\n\u001b[0m",
      "\u001b[1;31mAttributeError\u001b[0m: 'numpy.ndarray' object has no attribute 'isnull'"
     ]
    }
   ],
   "source": [
    "x_test.isnull().sum()"
   ]
  },
  {
   "cell_type": "code",
   "execution_count": 37,
   "metadata": {},
   "outputs": [
    {
     "data": {
      "text/plain": [
       "RandomForestClassifier(bootstrap=True, class_weight=None, criterion='gini',\n",
       "            max_depth=None, max_features=22, max_leaf_nodes=None,\n",
       "            min_impurity_decrease=0.0, min_impurity_split=None,\n",
       "            min_samples_leaf=1, min_samples_split=2,\n",
       "            min_weight_fraction_leaf=0.0, n_estimators=500, n_jobs=1,\n",
       "            oob_score=False, random_state=1, verbose=0, warm_start=False)"
      ]
     },
     "execution_count": 37,
     "metadata": {},
     "output_type": "execute_result"
    }
   ],
   "source": [
    "RF = RandomForestClassifier(n_estimators=500, max_features = 22, random_state = 1)\n",
    "RF.fit(x, y)"
   ]
  },
  {
   "cell_type": "code",
   "execution_count": 38,
   "metadata": {},
   "outputs": [],
   "source": [
    "test_srch_id_ = np.array(dataset_test['srch_id'])\n",
    "test_site_id = np.array(dataset_test['site_id'])\n",
    "test_visitor_location_country_id = np.array(dataset_test['visitor_location_country_id'])\n",
    "test_prop_country_id = np.array(dataset_test['prop_country_id'])\n",
    "test_prop_id = np.array(dataset_test['prop_id'])\n",
    "test_prop_starrating = np.array(dataset_test['prop_starrating'])\n",
    "test_prop_review_score = np.array(dataset_test['prop_review_score'])\n",
    "test_prop_brand_bool = np.array(dataset_test['prop_brand_bool'])\n",
    "test_prop_location_score1 = np.array(dataset_test['prop_location_score1'])\n",
    "test_prop_location_score2 = np.array(dataset_test['prop_location_score2'])\n",
    "test_prop_log_historical_price = np.array(dataset_test['prop_log_historical_price'])\n",
    "test_price_usd = np.array(dataset_test['price_usd'])\n",
    "test_promotion_flag = np.array(dataset_test['promotion_flag'])\n",
    "test_srch_destination_id = np.array(dataset_test['srch_destination_id'])\n",
    "test_srch_length_of_stay = np.array(dataset_test['srch_length_of_stay'])\n",
    "test_srch_booking_window = np.array(dataset_test['srch_booking_window'])\n",
    "test_srch_adults_count = np.array(dataset_test['srch_adults_count'])\n",
    "test_srch_children_count = np.array(dataset_test['srch_children_count'])\n",
    "test_srch_room_count = np.array(dataset_test['srch_room_count'])\n",
    "test_srch_saturday_night_bool = np.array(dataset_test['srch_saturday_night_bool'])\n",
    "test_orig_destination_distance = np.array(dataset_test['orig_destination_distance'])\n",
    "test_random_bool = np.array(dataset_test['random_bool'])\n",
    "\n",
    "x_test = np.vstack((test_srch_id_,test_site_id,test_visitor_location_country_id,test_prop_country_id,test_prop_id,test_prop_starrating\n",
    "              ,test_prop_review_score,test_prop_review_score,test_prop_brand_bool,test_prop_location_score1,test_prop_location_score2,\n",
    "              test_prop_log_historical_price,test_price_usd,test_promotion_flag,test_srch_destination_id,test_srch_length_of_stay,\n",
    "              test_srch_booking_window,test_srch_adults_count,test_srch_children_count,test_srch_room_count,test_srch_saturday_night_bool,\n",
    "              test_orig_destination_distance,test_random_bool)).T"
   ]
  },
  {
   "cell_type": "code",
   "execution_count": 39,
   "metadata": {},
   "outputs": [],
   "source": [
    "y = RF.predict(x_test)"
   ]
  },
  {
   "cell_type": "code",
   "execution_count": 40,
   "metadata": {},
   "outputs": [],
   "source": [
    "dataset_test['likelihood'] = y\n",
    "dataset_test = dataset_test.sort_values(['srch_id', 'likelihood'], ascending=[True, False])\n",
    "dataset_test = dataset_test.reset_index(drop = True)\n",
    "submit = dataset_test.filter(['srch_id', 'prop_id'], axis=1)\n",
    "\n",
    "submit.to_csv('submission_sample.csv', index=False)"
   ]
  },
  {
   "cell_type": "code",
   "execution_count": null,
   "metadata": {},
   "outputs": [],
   "source": []
  }
 ],
 "metadata": {
  "kernelspec": {
   "display_name": "Python 3",
   "language": "python",
   "name": "python3"
  },
  "language_info": {
   "codemirror_mode": {
    "name": "ipython",
    "version": 3
   },
   "file_extension": ".py",
   "mimetype": "text/x-python",
   "name": "python",
   "nbconvert_exporter": "python",
   "pygments_lexer": "ipython3",
   "version": "3.7.0"
  }
 },
 "nbformat": 4,
 "nbformat_minor": 2
}
