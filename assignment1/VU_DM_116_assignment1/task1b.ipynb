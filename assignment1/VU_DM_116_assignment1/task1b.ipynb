{
 "cells": [
  {
   "cell_type": "code",
   "execution_count": 1,
   "metadata": {},
   "outputs": [],
   "source": [
    "import pandas as pd\n",
    "import numpy as np\n",
    "from sklearn.model_selection import cross_val_score\n",
    "from sklearn.ensemble import RandomForestClassifier\n",
    "from sklearn.linear_model import LogisticRegression\n",
    "\n",
    "data = pd.read_csv('heart.csv', sep=',')\n",
    "\n",
    "X = data.drop(['target'], axis = 1)\n",
    "y = data['target']"
   ]
  },
  {
   "cell_type": "code",
   "execution_count": 2,
   "metadata": {},
   "outputs": [
    {
     "name": "stdout",
     "output_type": "stream",
     "text": [
      "[0.81818182 0.88157895 0.81333333 0.77333333]\n",
      "Accuracy: 0.82 (+/- 0.04)\n"
     ]
    }
   ],
   "source": [
    "logreg = LogisticRegression(solver = 'liblinear')\n",
    "logregScore = cross_val_score(logreg, X, y, cv = 4)\n",
    "print(logregScore)\n",
    "print(\"Accuracy: %0.2f (+/- %0.2f)\" % (logregScore.mean(), logregScore.std()))"
   ]
  },
  {
   "cell_type": "code",
   "execution_count": 3,
   "metadata": {},
   "outputs": [
    {
     "name": "stdout",
     "output_type": "stream",
     "text": [
      "[0.85148515 0.8019802  0.77227723]\n",
      "Accuracy: 0.81 (+/- 0.03)\n"
     ]
    }
   ],
   "source": [
    "RF = RandomForestClassifier(n_estimators=500,max_features=13,random_state=1)\n",
    "RFScore = cross_val_score(RF, X, y, cv = 3)\n",
    "print(RFScore)\n",
    "print(\"Accuracy: %0.2f (+/- %0.2f)\" % (RFScore.mean(), RFScore.std()))"
   ]
  },
  {
   "cell_type": "code",
   "execution_count": null,
   "metadata": {},
   "outputs": [],
   "source": []
  }
 ],
 "metadata": {
  "kernelspec": {
   "display_name": "Python 3",
   "language": "python",
   "name": "python3"
  },
  "language_info": {
   "codemirror_mode": {
    "name": "ipython",
    "version": 3
   },
   "file_extension": ".py",
   "mimetype": "text/x-python",
   "name": "python",
   "nbconvert_exporter": "python",
   "pygments_lexer": "ipython3",
   "version": "3.7.0"
  }
 },
 "nbformat": 4,
 "nbformat_minor": 2
}
