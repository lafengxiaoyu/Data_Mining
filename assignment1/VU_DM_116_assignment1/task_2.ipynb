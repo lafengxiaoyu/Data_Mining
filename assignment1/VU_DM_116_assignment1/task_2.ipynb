{
 "cells": [
  {
   "cell_type": "code",
   "execution_count": 8,
   "metadata": {},
   "outputs": [
    {
     "name": "stdout",
     "output_type": "stream",
     "text": [
      "<class 'pandas.core.frame.DataFrame'>\n",
      "RangeIndex: 891 entries, 0 to 890\n",
      "Data columns (total 12 columns):\n",
      "PassengerId    891 non-null int64\n",
      "Survived       891 non-null int64\n",
      "Pclass         891 non-null int64\n",
      "Name           891 non-null object\n",
      "Sex            891 non-null object\n",
      "Age            714 non-null float64\n",
      "SibSp          891 non-null int64\n",
      "Parch          891 non-null int64\n",
      "Ticket         891 non-null object\n",
      "Fare           891 non-null float64\n",
      "Cabin          204 non-null object\n",
      "Embarked       889 non-null object\n",
      "dtypes: float64(2), int64(5), object(5)\n",
      "memory usage: 83.6+ KB\n"
     ]
    }
   ],
   "source": [
    "import pandas as pd\n",
    "import numpy as np\n",
    "import matplotlib.pyplot as plt\n",
    "import seaborn as sns\n",
    "from sklearn import svm\n",
    "\n",
    "train = pd.read_csv('titanic/train.csv', dtype={\"Age\": np.float64})\n",
    "test = pd.read_csv('titanic/test.csv', dtype={\"Age\": np.float64})\n",
    "train.info()"
   ]
  },
  {
   "cell_type": "code",
   "execution_count": 9,
   "metadata": {
    "collapsed": true
   },
   "outputs": [],
   "source": [
    "from scipy.stats import mode\n",
    "import string\n",
    "\n",
    "def substrings_in_string(big_string, substrings):\n",
    "    for substring in substrings:\n",
    "        if big_string.find(substring) != -1:\n",
    "            return substring\n",
    "    return np.nan"
   ]
  },
  {
   "cell_type": "code",
   "execution_count": 10,
   "metadata": {
    "collapsed": true
   },
   "outputs": [],
   "source": [
    "def phase1clean(df):\n",
    "    #setting silly values to nan\n",
    "    df.Fare = df.Fare.map(lambda x: np.nan if x==0 else x)\n",
    "    \n",
    "    #Special case for cabins as nan may be signal\n",
    "    df.Cabin = df.Cabin.fillna('Unknown') \n",
    "    \n",
    "    df.Embarked = df.Embarked.fillna('Unknown')\n",
    "\n",
    "    #creating a title column from name\n",
    "    title_list=['Mrs', 'Mr', 'Master', 'Miss', 'Major', 'Rev',\n",
    "                'Dr', 'Ms', 'Mlle','Col', 'Capt', 'Mme', 'Countess',\n",
    "                'Don', 'Jonkheer']\n",
    "\n",
    "    df['Title']=df['Name'].map(lambda x: substrings_in_string(x, title_list))\n",
    "    \n",
    "    #replacing all titles with mr, mrs, miss, master\n",
    "    def replace_titles(x):\n",
    "        title=x['Title']\n",
    "        if title in ['Don', 'Major', 'Capt', 'Jonkheer', 'Rev', 'Col']:\n",
    "            return 'Mr'\n",
    "        elif title in ['Countess', 'Mme']:\n",
    "            return 'Mrs'\n",
    "        elif title in ['Mlle', 'Ms']:\n",
    "            return 'Miss'\n",
    "        elif title =='Dr':\n",
    "            if x['Sex']=='Male':\n",
    "                return 'Mr'\n",
    "            else:\n",
    "                return 'Mrs'\n",
    "        else:\n",
    "            return title\n",
    "    df['Title']=df.apply(replace_titles, axis=1)\n",
    "\n",
    "    #Turning cabin number into Deck\n",
    "    cabin_list = ['A', 'B', 'C', 'D', 'E', 'F', 'T', 'G', 'Unknown']\n",
    "    df['Deck']=df['Cabin'].map(lambda x: substrings_in_string(x, cabin_list))\n",
    "        \n",
    "    #Creating new family_size column\n",
    "    df['Family_Size']=df['SibSp']+df['Parch']\n",
    "    \n",
    "    return df\n",
    "\n",
    "def phase2clean(train, test):\n",
    "    #data type dictionary\n",
    "    data_type_dict={'Pclass':'ordinal', 'Sex':'nominal', \n",
    "                    'Age':'numeric', \n",
    "                    'Fare':'numeric', 'Embarked':'nominal', 'Title':'nominal',\n",
    "                    'Deck':'nominal', 'Family_Size':'ordinal'}      \n",
    "    for df in [train, test]:\n",
    "        meanAge=np.mean(df.Age)\n",
    "        df.Age=df.Age.fillna(meanAge)\n",
    "    \n",
    "#    Fare per person\n",
    "    for df in [train, test]:\n",
    "        df['Fare_Per_Person']=df['Fare']/(df['Family_Size']+1)\n",
    "    \n",
    "    #Age times class\n",
    "    for df in [train, test]:\n",
    "        df['Age*Class']=df['Age']*df['Pclass']\n",
    "    \n",
    "    data_type_dict['Fare_Per_Person']='numeric'\n",
    "    data_type_dict['Age*Class']='numeric'\n",
    "    \n",
    "    return [train,test, data_type_dict]\n"
   ]
  },
  {
   "cell_type": "code",
   "execution_count": 11,
   "metadata": {
    "collapsed": true
   },
   "outputs": [],
   "source": [
    "traindf = phase1clean(train)\n",
    "testdf = phase1clean(test)\n",
    "train_cleaned, test_cleaned, data_type_dict = phase2clean(traindf,testdf)\n",
    "\n",
    "train_cleaned.to_csv(\"train_cleaned.csv\", index=False)\n",
    "test_cleaned.to_csv(\"test_cleaned.csv\", index=False)"
   ]
  },
  {
   "cell_type": "code",
   "execution_count": 12,
   "metadata": {
    "collapsed": true
   },
   "outputs": [],
   "source": [
    "pclass = np.array(train_cleaned['Pclass'])\n",
    "familysize = np.array(train_cleaned['Family_Size'])\n",
    "age = np.array(train_cleaned['Age'])\n",
    "fareper = np.nan_to_num(np.array(train_cleaned['Fare_Per_Person']))\n",
    "ageclass = np.array(train_cleaned['Age*Class'])\n",
    "title = np.array(train_cleaned['Title'].apply(lambda x : 0 if x=='Mr' else(1 if x=='Mrs' else(2 if x=='Miss' else 3))))\n",
    "sex = np.array(train_cleaned['Sex'].apply(lambda x : 1 if x=='male' else 0))\n",
    "deck = np.array(train_cleaned['Deck'].apply(lambda x : 0 if x=='Unknown' else 1))\n",
    "embarked = np.array(train_cleaned['Embarked'].apply(lambda x:1 if x=='S' else(2 if x=='C' else(3 if x =='Q' else 0))))\n",
    "survived = np.array(train_cleaned['Survived'])"
   ]
  },
  {
   "cell_type": "markdown",
   "metadata": {},
   "source": [
    "We make some plot here."
   ]
  },
  {
   "cell_type": "code",
   "execution_count": 13,
   "metadata": {},
   "outputs": [],
   "source": [
    "plt.clf()\n",
    "sns.barplot(x=\"Sex\", y=\"Survived\", data=train, palette='Blues')\n",
    "plt.savefig('images2/Sex.eps')\n",
    "plt.clf()\n",
    "sns.barplot(x=\"Family_Size\", y=\"Survived\", data=train, palette='Blues')\n",
    "plt.savefig('images2/FamilySize.eps')\n",
    "plt.clf()\n",
    "sns.barplot(x=\"Title\", y=\"Survived\", data=train, palette='Blues')\n",
    "plt.savefig('images2/Title.eps')\n",
    "plt.clf()\n",
    "sns.barplot(x=\"Deck\", y=\"Survived\", data=train, palette='Blues')\n",
    "plt.savefig('images2/Deck.eps')\n",
    "plt.clf()\n",
    "sns.barplot(x=\"Embarked\", y=\"Survived\", data=train, palette='Blues')\n",
    "plt.savefig('images2/Embarked.eps')\n",
    "plt.clf()\n",
    "sns.barplot(x=\"Pclass\", y=\"Survived\", data=train, palette='Blues')\n",
    "plt.savefig('images2/Pclass.eps')"
   ]
  },
  {
   "cell_type": "code",
   "execution_count": 14,
   "metadata": {},
   "outputs": [],
   "source": [
    "plt.clf()\n",
    "facet = sns.FacetGrid(train_cleaned, hue='Survived')\n",
    "facet.map(sns.kdeplot,'Fare_Per_Person')\n",
    "facet.set(xlim=(0, 100))\n",
    "facet.add_legend()\n",
    "plt.savefig('images2/Fare_Per_Person.eps')\n",
    "plt.clf()\n",
    "facet = sns.FacetGrid(train_cleaned, hue='Survived')\n",
    "facet.map(sns.kdeplot,'Age')\n",
    "facet.set(xlim=(0, 80))\n",
    "facet.add_legend()\n",
    "plt.savefig('images2/Age.eps')"
   ]
  },
  {
   "cell_type": "code",
   "execution_count": 15,
   "metadata": {},
   "outputs": [
    {
     "name": "stdout",
     "output_type": "stream",
     "text": [
      "              pclass  familysize       age   fareper     title       sex  \\\n",
      "pclass      1.000000    0.065997 -0.331339 -0.485079 -0.022762  0.131900   \n",
      "familysize  0.065997    1.000000 -0.248512 -0.099173  0.394511 -0.200988   \n",
      "age        -0.331339   -0.248512  1.000000  0.141649 -0.391449  0.084153   \n",
      "fareper    -0.485079   -0.099173  0.141649  1.000000  0.062001 -0.115143   \n",
      "title      -0.022762    0.394511 -0.391449  0.062001  1.000000 -0.689837   \n",
      "sex         0.131900   -0.200988  0.084153 -0.115143 -0.689837  1.000000   \n",
      "deck       -0.725541   -0.009175  0.233123  0.373966  0.072510 -0.140391   \n",
      "embarked    0.050992   -0.077927  0.001932  0.075745  0.124234 -0.111249   \n",
      "survived   -0.338481    0.016639 -0.069809  0.221600  0.473108 -0.543351   \n",
      "\n",
      "                deck  embarked  survived  \n",
      "pclass     -0.725541  0.050992 -0.338481  \n",
      "familysize -0.009175 -0.077927  0.016639  \n",
      "age         0.233123  0.001932 -0.069809  \n",
      "fareper     0.373966  0.075745  0.221600  \n",
      "title       0.072510  0.124234  0.473108  \n",
      "sex        -0.140391 -0.111249 -0.543351  \n",
      "deck        1.000000  0.007256  0.316912  \n",
      "embarked    0.007256  1.000000  0.101849  \n",
      "survived    0.316912  0.101849  1.000000  \n"
     ]
    }
   ],
   "source": [
    "df = pd.DataFrame({'pclass': pclass,\n",
    "                   'familysize': familysize,\n",
    "                   'age': age,\n",
    "                   'fareper': fareper,\n",
    "                   'title': title,\n",
    "                   'sex': sex,\n",
    "                   'deck': deck,\n",
    "                   'embarked': embarked,\n",
    "                   'survived': survived\n",
    "                   })\n",
    "print(df.corr())\n",
    "plt.clf()\n",
    "sns.heatmap(df.corr(),cmap=sns.diverging_palette(220, 10, as_cmap=True))\n",
    "plt.savefig('images2/correlation_map_2.eps')"
   ]
  },
  {
   "cell_type": "code",
   "execution_count": 16,
   "metadata": {
    "collapsed": true
   },
   "outputs": [],
   "source": [
    "x = np.vstack((sex,pclass,deck,familysize,title)).T\n",
    "y = np.array(train['Survived'])"
   ]
  },
  {
   "cell_type": "code",
   "execution_count": 17,
   "metadata": {},
   "outputs": [
    {
     "data": {
      "text/plain": [
       "SVR(C=1.0, cache_size=200, coef0=0.0, degree=3, epsilon=0.1, gamma='auto',\n",
       "  kernel='rbf', max_iter=-1, shrinking=True, tol=0.001, verbose=False)"
      ]
     },
     "execution_count": 17,
     "metadata": {},
     "output_type": "execute_result"
    }
   ],
   "source": [
    "clf = svm.SVR(kernel='rbf')\n",
    "clf.fit(x, y)"
   ]
  },
  {
   "cell_type": "code",
   "execution_count": 18,
   "metadata": {
    "collapsed": true
   },
   "outputs": [],
   "source": [
    "test_pclass = np.array(test_cleaned['Pclass'])\n",
    "test_familysize = np.array(test_cleaned['Family_Size'])\n",
    "test_age = np.array(test_cleaned['Age'])\n",
    "test_fareper = np.nan_to_num(np.array(test_cleaned['Fare_Per_Person']))\n",
    "test_ageclass = np.array(test_cleaned['Age*Class'])\n",
    "test_title = np.array(test_cleaned['Title'].apply(lambda x : 0 if x=='Mr' else(1 if x=='Mrs' else(2 if x=='Miss' else 3))))\n",
    "test_sex = np.array(test_cleaned['Sex'].apply(lambda x : 1 if x=='male' else 0))\n",
    "test_deck = np.array(test_cleaned['Deck'].apply(lambda x : 0 if x=='Unknown' else 1))\n",
    "test_embarked = np.array(test_cleaned['Embarked'].apply(lambda x:1 if x=='S' else(2 if x=='C' else(3 if x =='Q' else 0))))"
   ]
  },
  {
   "cell_type": "code",
   "execution_count": 19,
   "metadata": {
    "collapsed": true
   },
   "outputs": [],
   "source": [
    "test_x = np.vstack((test_sex,test_pclass,test_deck,test_familysize,test_title)).T\n",
    "y = clf.predict(test_x)\n",
    "test_survived = []\n",
    "for item in y:\n",
    "    if item < 0.5:\n",
    "        test_survived.append(0)\n",
    "    else:\n",
    "        test_survived.append(1)"
   ]
  },
  {
   "cell_type": "code",
   "execution_count": 20,
   "metadata": {},
   "outputs": [],
   "source": [
    "#SVM Submission\n",
    "passengerid = np.array(test['PassengerId'])\n",
    "submission = pd.DataFrame({\"PassengerId\": passengerid, \"Survived\": test_survived})\n",
    "submission.to_csv(\"submission_svm.csv\", index=False)"
   ]
  },
  {
   "cell_type": "code",
   "execution_count": 13,
   "metadata": {},
   "outputs": [
    {
     "name": "stderr",
     "output_type": "stream",
     "text": [
      "/Applications/anaconda/anaconda/lib/python3.6/site-packages/sklearn/linear_model/base.py:539: RuntimeWarning: internal gelsd driver lwork query error, required iwork dimension not returned. This is likely the result of LAPACK bug 0038, fixed in LAPACK 3.2.2 (released July 21, 2010). Falling back to 'gelss' driver.\n",
      "  linalg.lstsq(X, y)\n"
     ]
    }
   ],
   "source": [
    "from sklearn.ensemble import RandomForestClassifier\n",
    "from sklearn.linear_model import LogisticRegression\n",
    "from sklearn.linear_model import LinearRegression\n",
    "from sklearn.linear_model import LogisticRegression\n",
    "\n",
    "x = np.vstack((sex,pclass,deck,familysize,title)).T\n",
    "y = np.array(train['Survived'])\n",
    "test_x = np.vstack((test_sex,test_pclass,test_deck,test_familysize,test_title)).T\n",
    "linearReg = LinearRegression().fit(x, y)\n",
    "\n",
    "y = linearReg.predict(test_x)\n",
    "test_survived_linear_reg = []\n",
    "for item in y:\n",
    "    if item < 0.5:\n",
    "        test_survived_linear_reg.append(0)\n",
    "    else:\n",
    "        test_survived_linear_reg.append(1)"
   ]
  },
  {
   "cell_type": "code",
   "execution_count": 14,
   "metadata": {
    "collapsed": true
   },
   "outputs": [],
   "source": [
    "# Linear Reg submission\n",
    "passengerid = np.array(test['PassengerId'])\n",
    "submission = pd.DataFrame({\"PassengerId\": passengerid, \"Survived\": test_survived_linear_reg})\n",
    "submission.to_csv(\"submission_LinearReg.csv\", index=False)"
   ]
  },
  {
   "cell_type": "code",
   "execution_count": 15,
   "metadata": {
    "collapsed": true
   },
   "outputs": [],
   "source": [
    "from sklearn.neural_network import MLPRegressor\n",
    "\n",
    "x = np.vstack((sex,pclass,deck,familysize,title)).T\n",
    "y = np.array(train['Survived'])\n",
    "NN = MLPRegressor(solver = 'lbfgs').fit(x,y)\n",
    "\n",
    "y = NN.predict(test_x)\n",
    "test_survived_NN = []\n",
    "for item in y:\n",
    "    if item < 0.5:\n",
    "        test_survived_NN.append(0)\n",
    "    else:\n",
    "        test_survived_NN.append(1)"
   ]
  },
  {
   "cell_type": "code",
   "execution_count": 16,
   "metadata": {
    "collapsed": true
   },
   "outputs": [],
   "source": [
    "# NN submission\n",
    "passengerid = np.array(test['PassengerId'])\n",
    "submission = pd.DataFrame({\"PassengerId\": passengerid, \"Survived\": test_survived_NN})\n",
    "submission.to_csv(\"submission_NN.csv\", index=False)"
   ]
  },
  {
   "cell_type": "code",
   "execution_count": null,
   "metadata": {
    "collapsed": true
   },
   "outputs": [],
   "source": []
  }
 ],
 "metadata": {
  "kernelspec": {
   "display_name": "Python 3",
   "language": "python",
   "name": "python3"
  },
  "language_info": {
   "codemirror_mode": {
    "name": "ipython",
    "version": 3
   },
   "file_extension": ".py",
   "mimetype": "text/x-python",
   "name": "python",
   "nbconvert_exporter": "python",
   "pygments_lexer": "ipython3",
   "version": "3.6.1"
  }
 },
 "nbformat": 4,
 "nbformat_minor": 2
}
